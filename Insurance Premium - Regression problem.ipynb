{
 "cells": [
  {
   "cell_type": "code",
   "execution_count": 100,
   "metadata": {
    "colab": {},
    "colab_type": "code",
    "id": "_K_GEmSdpBv7"
   },
   "outputs": [
    {
     "data": {
      "text/html": [
       "<div>\n",
       "<style scoped>\n",
       "    .dataframe tbody tr th:only-of-type {\n",
       "        vertical-align: middle;\n",
       "    }\n",
       "\n",
       "    .dataframe tbody tr th {\n",
       "        vertical-align: top;\n",
       "    }\n",
       "\n",
       "    .dataframe thead th {\n",
       "        text-align: right;\n",
       "    }\n",
       "</style>\n",
       "<table border=\"1\" class=\"dataframe\">\n",
       "  <thead>\n",
       "    <tr style=\"text-align: right;\">\n",
       "      <th></th>\n",
       "      <th>age</th>\n",
       "      <th>sex</th>\n",
       "      <th>bmi</th>\n",
       "      <th>children</th>\n",
       "      <th>smoker</th>\n",
       "      <th>region</th>\n",
       "      <th>expenses</th>\n",
       "    </tr>\n",
       "  </thead>\n",
       "  <tbody>\n",
       "    <tr>\n",
       "      <th>0</th>\n",
       "      <td>19</td>\n",
       "      <td>female</td>\n",
       "      <td>27.9</td>\n",
       "      <td>0</td>\n",
       "      <td>yes</td>\n",
       "      <td>southwest</td>\n",
       "      <td>16884.92</td>\n",
       "    </tr>\n",
       "    <tr>\n",
       "      <th>1</th>\n",
       "      <td>18</td>\n",
       "      <td>male</td>\n",
       "      <td>33.8</td>\n",
       "      <td>1</td>\n",
       "      <td>no</td>\n",
       "      <td>southeast</td>\n",
       "      <td>1725.55</td>\n",
       "    </tr>\n",
       "    <tr>\n",
       "      <th>2</th>\n",
       "      <td>28</td>\n",
       "      <td>male</td>\n",
       "      <td>33.0</td>\n",
       "      <td>3</td>\n",
       "      <td>no</td>\n",
       "      <td>southeast</td>\n",
       "      <td>4449.46</td>\n",
       "    </tr>\n",
       "    <tr>\n",
       "      <th>3</th>\n",
       "      <td>33</td>\n",
       "      <td>male</td>\n",
       "      <td>22.7</td>\n",
       "      <td>0</td>\n",
       "      <td>no</td>\n",
       "      <td>northwest</td>\n",
       "      <td>21984.47</td>\n",
       "    </tr>\n",
       "    <tr>\n",
       "      <th>4</th>\n",
       "      <td>32</td>\n",
       "      <td>male</td>\n",
       "      <td>28.9</td>\n",
       "      <td>0</td>\n",
       "      <td>no</td>\n",
       "      <td>northwest</td>\n",
       "      <td>3866.86</td>\n",
       "    </tr>\n",
       "  </tbody>\n",
       "</table>\n",
       "</div>"
      ],
      "text/plain": [
       "   age     sex   bmi  children smoker     region  expenses\n",
       "0   19  female  27.9         0    yes  southwest  16884.92\n",
       "1   18    male  33.8         1     no  southeast   1725.55\n",
       "2   28    male  33.0         3     no  southeast   4449.46\n",
       "3   33    male  22.7         0     no  northwest  21984.47\n",
       "4   32    male  28.9         0     no  northwest   3866.86"
      ]
     },
     "execution_count": 100,
     "metadata": {},
     "output_type": "execute_result"
    }
   ],
   "source": [
    "import pandas as pd\n",
    "import numpy as np\n",
    "import matplotlib.pyplot as plt\n",
    "import seaborn as sns\n",
    "import pickle\n",
    "from sklearn.preprocessing import StandardScaler\n",
    "from sklearn.model_selection import cross_val_predict  \n",
    "from sklearn.metrics import r2_score  \n",
    "from sklearn.metrics import mean_squared_error\n",
    "from math import sqrt  \n",
    "import warnings\n",
    "warnings.filterwarnings('ignore')\n",
    "\n",
    "insurance = pd.read_csv(\"insurance.csv\")\n",
    "\n",
    "insurance.head()"
   ]
  },
  {
   "cell_type": "code",
   "execution_count": 101,
   "metadata": {},
   "outputs": [
    {
     "data": {
      "text/html": [
       "<div>\n",
       "<style scoped>\n",
       "    .dataframe tbody tr th:only-of-type {\n",
       "        vertical-align: middle;\n",
       "    }\n",
       "\n",
       "    .dataframe tbody tr th {\n",
       "        vertical-align: top;\n",
       "    }\n",
       "\n",
       "    .dataframe thead th {\n",
       "        text-align: right;\n",
       "    }\n",
       "</style>\n",
       "<table border=\"1\" class=\"dataframe\">\n",
       "  <thead>\n",
       "    <tr style=\"text-align: right;\">\n",
       "      <th></th>\n",
       "      <th>age</th>\n",
       "      <th>bmi</th>\n",
       "      <th>children</th>\n",
       "      <th>expenses</th>\n",
       "    </tr>\n",
       "  </thead>\n",
       "  <tbody>\n",
       "    <tr>\n",
       "      <th>count</th>\n",
       "      <td>1338.000000</td>\n",
       "      <td>1338.000000</td>\n",
       "      <td>1338.000000</td>\n",
       "      <td>1338.000000</td>\n",
       "    </tr>\n",
       "    <tr>\n",
       "      <th>mean</th>\n",
       "      <td>39.207025</td>\n",
       "      <td>30.665471</td>\n",
       "      <td>1.094918</td>\n",
       "      <td>13270.422414</td>\n",
       "    </tr>\n",
       "    <tr>\n",
       "      <th>std</th>\n",
       "      <td>14.049960</td>\n",
       "      <td>6.098382</td>\n",
       "      <td>1.205493</td>\n",
       "      <td>12110.011240</td>\n",
       "    </tr>\n",
       "    <tr>\n",
       "      <th>min</th>\n",
       "      <td>18.000000</td>\n",
       "      <td>16.000000</td>\n",
       "      <td>0.000000</td>\n",
       "      <td>1121.870000</td>\n",
       "    </tr>\n",
       "    <tr>\n",
       "      <th>25%</th>\n",
       "      <td>27.000000</td>\n",
       "      <td>26.300000</td>\n",
       "      <td>0.000000</td>\n",
       "      <td>4740.287500</td>\n",
       "    </tr>\n",
       "    <tr>\n",
       "      <th>50%</th>\n",
       "      <td>39.000000</td>\n",
       "      <td>30.400000</td>\n",
       "      <td>1.000000</td>\n",
       "      <td>9382.030000</td>\n",
       "    </tr>\n",
       "    <tr>\n",
       "      <th>75%</th>\n",
       "      <td>51.000000</td>\n",
       "      <td>34.700000</td>\n",
       "      <td>2.000000</td>\n",
       "      <td>16639.915000</td>\n",
       "    </tr>\n",
       "    <tr>\n",
       "      <th>max</th>\n",
       "      <td>64.000000</td>\n",
       "      <td>53.100000</td>\n",
       "      <td>5.000000</td>\n",
       "      <td>63770.430000</td>\n",
       "    </tr>\n",
       "  </tbody>\n",
       "</table>\n",
       "</div>"
      ],
      "text/plain": [
       "               age          bmi     children      expenses\n",
       "count  1338.000000  1338.000000  1338.000000   1338.000000\n",
       "mean     39.207025    30.665471     1.094918  13270.422414\n",
       "std      14.049960     6.098382     1.205493  12110.011240\n",
       "min      18.000000    16.000000     0.000000   1121.870000\n",
       "25%      27.000000    26.300000     0.000000   4740.287500\n",
       "50%      39.000000    30.400000     1.000000   9382.030000\n",
       "75%      51.000000    34.700000     2.000000  16639.915000\n",
       "max      64.000000    53.100000     5.000000  63770.430000"
      ]
     },
     "execution_count": 101,
     "metadata": {},
     "output_type": "execute_result"
    }
   ],
   "source": [
    "insurance.describe()"
   ]
  },
  {
   "cell_type": "code",
   "execution_count": 102,
   "metadata": {
    "colab": {},
    "colab_type": "code",
    "id": "OmHi48vJpBwG"
   },
   "outputs": [
    {
     "name": "stdout",
     "output_type": "stream",
     "text": [
      "Rows     :  1338\n",
      "Columns  :  7\n",
      "\n",
      "Features : \n",
      " ['age', 'sex', 'bmi', 'children', 'smoker', 'region', 'expenses']\n",
      "\n",
      "Missing values :   0\n",
      "\n",
      "Unique values :  \n",
      " age           47\n",
      "sex            2\n",
      "bmi          275\n",
      "children       6\n",
      "smoker         2\n",
      "region         4\n",
      "expenses    1337\n",
      "dtype: int64\n"
     ]
    }
   ],
   "source": [
    "print (\"Rows     : \" , insurance.shape[0])\n",
    "print (\"Columns  : \" , insurance.shape[1])\n",
    "print (\"\\nFeatures : \\n\" , insurance.columns.tolist())\n",
    "print (\"\\nMissing values :  \", insurance.isnull().sum().values.sum())\n",
    "print (\"\\nUnique values :  \\n\",insurance.nunique())"
   ]
  },
  {
   "cell_type": "code",
   "execution_count": 103,
   "metadata": {
    "colab": {},
    "colab_type": "code",
    "id": "R6ni3P7spBwK"
   },
   "outputs": [
    {
     "data": {
      "image/png": "[encoded data removed]",
      "text/plain": [
       "<Figure size 864x720 with 4 Axes>"
      ]
     },
     "metadata": {},
     "output_type": "display_data"
    }
   ],
   "source": [
    "# Data exploration\n",
    "\n",
    "fig, axes = plt.subplots(nrows=2, ncols=2, figsize=(12, 10))\n",
    "insurance.plot(kind=\"hist\", y=\"age\", bins=70, color=\"b\", ax=axes[0][0])\n",
    "insurance.plot(kind=\"hist\", y=\"bmi\", bins=100, color=\"r\", ax=axes[0][1])\n",
    "insurance.plot(kind=\"hist\", y=\"children\", bins=6, color=\"g\", ax=axes[1][0])\n",
    "insurance.plot(kind=\"hist\", y=\"expenses\", bins=100, color=\"orange\", ax=axes[1][1])\n",
    "plt.show()"
   ]
  },
  {
   "cell_type": "code",
   "execution_count": 104,
   "metadata": {
    "colab": {},
    "colab_type": "code",
    "id": "km6zqps6pBwO"
   },
   "outputs": [
    {
     "data": {
      "text/html": [
       "<div>\n",
       "<style scoped>\n",
       "    .dataframe tbody tr th:only-of-type {\n",
       "        vertical-align: middle;\n",
       "    }\n",
       "\n",
       "    .dataframe tbody tr th {\n",
       "        vertical-align: top;\n",
       "    }\n",
       "\n",
       "    .dataframe thead th {\n",
       "        text-align: right;\n",
       "    }\n",
       "</style>\n",
       "<table border=\"1\" class=\"dataframe\">\n",
       "  <thead>\n",
       "    <tr style=\"text-align: right;\">\n",
       "      <th></th>\n",
       "      <th>age</th>\n",
       "      <th>bmi</th>\n",
       "      <th>children</th>\n",
       "      <th>expenses</th>\n",
       "    </tr>\n",
       "  </thead>\n",
       "  <tbody>\n",
       "    <tr>\n",
       "      <th>age</th>\n",
       "      <td>1.000000</td>\n",
       "      <td>0.109341</td>\n",
       "      <td>0.042469</td>\n",
       "      <td>0.299008</td>\n",
       "    </tr>\n",
       "    <tr>\n",
       "      <th>bmi</th>\n",
       "      <td>0.109341</td>\n",
       "      <td>1.000000</td>\n",
       "      <td>0.012645</td>\n",
       "      <td>0.198576</td>\n",
       "    </tr>\n",
       "    <tr>\n",
       "      <th>children</th>\n",
       "      <td>0.042469</td>\n",
       "      <td>0.012645</td>\n",
       "      <td>1.000000</td>\n",
       "      <td>0.067998</td>\n",
       "    </tr>\n",
       "    <tr>\n",
       "      <th>expenses</th>\n",
       "      <td>0.299008</td>\n",
       "      <td>0.198576</td>\n",
       "      <td>0.067998</td>\n",
       "      <td>1.000000</td>\n",
       "    </tr>\n",
       "  </tbody>\n",
       "</table>\n",
       "</div>"
      ],
      "text/plain": [
       "               age       bmi  children  expenses\n",
       "age       1.000000  0.109341  0.042469  0.299008\n",
       "bmi       0.109341  1.000000  0.012645  0.198576\n",
       "children  0.042469  0.012645  1.000000  0.067998\n",
       "expenses  0.299008  0.198576  0.067998  1.000000"
      ]
     },
     "execution_count": 104,
     "metadata": {},
     "output_type": "execute_result"
    }
   ],
   "source": [
    "insurance.corr()"
   ]
  },
  {
   "cell_type": "code",
   "execution_count": 105,
   "metadata": {
    "colab": {},
    "colab_type": "code",
    "id": "jH7rD7lKpBwV"
   },
   "outputs": [
    {
     "data": {
      "image/png": "[encoded data removed]",
      "text/plain": [
       "<Figure size 1080x360 with 3 Axes>"
      ]
     },
     "metadata": {},
     "output_type": "display_data"
    }
   ],
   "source": [
    "fig, axes = plt.subplots(nrows=1, ncols=3, figsize=(15, 5))\n",
    "insurance.plot(kind='scatter', x='age', y='expenses', alpha=0.5, color='green', ax=axes[0], title=\"Age vs. Charges\")\n",
    "insurance.plot(kind='scatter', x='bmi', y='expenses', alpha=0.5, color='red', ax=axes[1], title=\"Bmi vs. Charges\")\n",
    "insurance.plot(kind='scatter', x='children', y='expenses', alpha=0.5, color='blue', ax=axes[2], title=\"Children vs. Charges\")\n",
    "plt.show()"
   ]
  },
  {
   "cell_type": "code",
   "execution_count": 106,
   "metadata": {
    "colab": {},
    "colab_type": "code",
    "id": "bKUOG4CMpBwa"
   },
   "outputs": [
    {
     "data": {
      "image/png": "[encoded data removed]",
      "text/plain": [
       "<Figure size 432x288 with 1 Axes>"
      ]
     },
     "metadata": {},
     "output_type": "display_data"
    }
   ],
   "source": [
    "pal = [\"#FA5858\", \"#58D3F7\"]\n",
    "sns.scatterplot(x=\"age\", y=\"expenses\", data=insurance, palette=pal, hue='smoker')\n",
    "plt.show()"
   ]
  },
  {
   "cell_type": "code",
   "execution_count": 107,
   "metadata": {
    "colab": {},
    "colab_type": "code",
    "id": "DJHHB9IypBwe"
   },
   "outputs": [
    {
     "data": {
      "image/png": "[encoded data removed]",
      "text/plain": [
       "<Figure size 776.6x720 with 20 Axes>"
      ]
     },
     "metadata": {},
     "output_type": "display_data"
    }
   ],
   "source": [
    "sns.set(style=\"ticks\")\n",
    "pal = [\"blue\", \"red\"]\n",
    "\n",
    "sns.pairplot(insurance, hue=\"smoker\", palette=pal)\n",
    "plt.title(\"Smokers\")\n",
    "plt.show()"
   ]
  },
  {
   "cell_type": "code",
   "execution_count": 108,
   "metadata": {
    "colab": {},
    "colab_type": "code",
    "id": "026vUkMPpBwm"
   },
   "outputs": [
    {
     "data": {
      "text/plain": [
       "array(['female', 'male'], dtype=object)"
      ]
     },
     "execution_count": 108,
     "metadata": {},
     "output_type": "execute_result"
    }
   ],
   "source": [
    "insurance['sex'].unique()"
   ]
  },
  {
   "cell_type": "code",
   "execution_count": 109,
   "metadata": {
    "colab": {},
    "colab_type": "code",
    "id": "4laZZKsEpBwq"
   },
   "outputs": [
    {
     "data": {
      "text/html": [
       "<div>\n",
       "<style scoped>\n",
       "    .dataframe tbody tr th:only-of-type {\n",
       "        vertical-align: middle;\n",
       "    }\n",
       "\n",
       "    .dataframe tbody tr th {\n",
       "        vertical-align: top;\n",
       "    }\n",
       "\n",
       "    .dataframe thead th {\n",
       "        text-align: right;\n",
       "    }\n",
       "</style>\n",
       "<table border=\"1\" class=\"dataframe\">\n",
       "  <thead>\n",
       "    <tr style=\"text-align: right;\">\n",
       "      <th></th>\n",
       "      <th>age</th>\n",
       "      <th>sex</th>\n",
       "      <th>bmi</th>\n",
       "      <th>children</th>\n",
       "      <th>smoker</th>\n",
       "      <th>region</th>\n",
       "      <th>expenses</th>\n",
       "    </tr>\n",
       "  </thead>\n",
       "  <tbody>\n",
       "    <tr>\n",
       "      <th>0</th>\n",
       "      <td>19</td>\n",
       "      <td>female</td>\n",
       "      <td>27.9</td>\n",
       "      <td>0</td>\n",
       "      <td>yes</td>\n",
       "      <td>southwest</td>\n",
       "      <td>16884.92</td>\n",
       "    </tr>\n",
       "    <tr>\n",
       "      <th>1</th>\n",
       "      <td>18</td>\n",
       "      <td>male</td>\n",
       "      <td>33.8</td>\n",
       "      <td>1</td>\n",
       "      <td>no</td>\n",
       "      <td>southeast</td>\n",
       "      <td>1725.55</td>\n",
       "    </tr>\n",
       "    <tr>\n",
       "      <th>2</th>\n",
       "      <td>28</td>\n",
       "      <td>male</td>\n",
       "      <td>33.0</td>\n",
       "      <td>3</td>\n",
       "      <td>no</td>\n",
       "      <td>southeast</td>\n",
       "      <td>4449.46</td>\n",
       "    </tr>\n",
       "    <tr>\n",
       "      <th>3</th>\n",
       "      <td>33</td>\n",
       "      <td>male</td>\n",
       "      <td>22.7</td>\n",
       "      <td>0</td>\n",
       "      <td>no</td>\n",
       "      <td>northwest</td>\n",
       "      <td>21984.47</td>\n",
       "    </tr>\n",
       "    <tr>\n",
       "      <th>4</th>\n",
       "      <td>32</td>\n",
       "      <td>male</td>\n",
       "      <td>28.9</td>\n",
       "      <td>0</td>\n",
       "      <td>no</td>\n",
       "      <td>northwest</td>\n",
       "      <td>3866.86</td>\n",
       "    </tr>\n",
       "  </tbody>\n",
       "</table>\n",
       "</div>"
      ],
      "text/plain": [
       "   age     sex   bmi  children smoker     region  expenses\n",
       "0   19  female  27.9         0    yes  southwest  16884.92\n",
       "1   18    male  33.8         1     no  southeast   1725.55\n",
       "2   28    male  33.0         3     no  southeast   4449.46\n",
       "3   33    male  22.7         0     no  northwest  21984.47\n",
       "4   32    male  28.9         0     no  northwest   3866.86"
      ]
     },
     "execution_count": 109,
     "metadata": {},
     "output_type": "execute_result"
    }
   ],
   "source": [
    "insurance.head()"
   ]
  },
  {
   "cell_type": "code",
   "execution_count": 110,
   "metadata": {
    "colab": {},
    "colab_type": "code",
    "id": "NNFcYjUIpBwu"
   },
   "outputs": [
    {
     "data": {
      "text/plain": [
       "no     1064\n",
       "yes     274\n",
       "Name: smoker, dtype: int64"
      ]
     },
     "execution_count": 110,
     "metadata": {},
     "output_type": "execute_result"
    }
   ],
   "source": [
    "insurance.smoker.value_counts()"
   ]
  },
  {
   "cell_type": "code",
   "execution_count": 111,
   "metadata": {
    "colab": {},
    "colab_type": "code",
    "id": "y-mamqHgpBw7"
   },
   "outputs": [],
   "source": [
    "# Label or integer encoding is possible \n",
    "\n",
    "#insurance['sex'] = insurance['sex'].map(lambda s :1  if s == 'female' else 0)\n",
    "#insurance['smoker'] = insurance['smoker'].map(lambda s :1  if s == 'yes' else 0)\n",
    "\n",
    "#insurance.head()"
   ]
  },
  {
   "cell_type": "code",
   "execution_count": 112,
   "metadata": {
    "colab": {},
    "colab_type": "code",
    "id": "XBS5_6IepBw-"
   },
   "outputs": [
    {
     "data": {
      "text/plain": [
       "['age', 'bmi', 'children', 'expenses']"
      ]
     },
     "execution_count": 112,
     "metadata": {},
     "output_type": "execute_result"
    }
   ],
   "source": [
    "# One hot encoding\n",
    "\n",
    "cat_col=['smoker','region','sex']\n",
    "num_col=[i for i in insurance.columns if i not in cat_col]\n",
    "num_col"
   ]
  },
  {
   "cell_type": "code",
   "execution_count": 113,
   "metadata": {
    "colab": {},
    "colab_type": "code",
    "id": "08WEYt26pBxD"
   },
   "outputs": [
    {
     "data": {
      "text/html": [
       "<div>\n",
       "<style scoped>\n",
       "    .dataframe tbody tr th:only-of-type {\n",
       "        vertical-align: middle;\n",
       "    }\n",
       "\n",
       "    .dataframe tbody tr th {\n",
       "        vertical-align: top;\n",
       "    }\n",
       "\n",
       "    .dataframe thead th {\n",
       "        text-align: right;\n",
       "    }\n",
       "</style>\n",
       "<table border=\"1\" class=\"dataframe\">\n",
       "  <thead>\n",
       "    <tr style=\"text-align: right;\">\n",
       "      <th></th>\n",
       "      <th>age</th>\n",
       "      <th>bmi</th>\n",
       "      <th>children</th>\n",
       "      <th>expenses</th>\n",
       "      <th>smoker_yes</th>\n",
       "      <th>region_northwest</th>\n",
       "      <th>region_southeast</th>\n",
       "      <th>region_southwest</th>\n",
       "      <th>sex_male</th>\n",
       "    </tr>\n",
       "  </thead>\n",
       "  <tbody>\n",
       "    <tr>\n",
       "      <th>0</th>\n",
       "      <td>19</td>\n",
       "      <td>27.9</td>\n",
       "      <td>0</td>\n",
       "      <td>16884.92</td>\n",
       "      <td>1</td>\n",
       "      <td>0</td>\n",
       "      <td>0</td>\n",
       "      <td>1</td>\n",
       "      <td>0</td>\n",
       "    </tr>\n",
       "    <tr>\n",
       "      <th>1</th>\n",
       "      <td>18</td>\n",
       "      <td>33.8</td>\n",
       "      <td>1</td>\n",
       "      <td>1725.55</td>\n",
       "      <td>0</td>\n",
       "      <td>0</td>\n",
       "      <td>1</td>\n",
       "      <td>0</td>\n",
       "      <td>1</td>\n",
       "    </tr>\n",
       "    <tr>\n",
       "      <th>2</th>\n",
       "      <td>28</td>\n",
       "      <td>33.0</td>\n",
       "      <td>3</td>\n",
       "      <td>4449.46</td>\n",
       "      <td>0</td>\n",
       "      <td>0</td>\n",
       "      <td>1</td>\n",
       "      <td>0</td>\n",
       "      <td>1</td>\n",
       "    </tr>\n",
       "    <tr>\n",
       "      <th>3</th>\n",
       "      <td>33</td>\n",
       "      <td>22.7</td>\n",
       "      <td>0</td>\n",
       "      <td>21984.47</td>\n",
       "      <td>0</td>\n",
       "      <td>1</td>\n",
       "      <td>0</td>\n",
       "      <td>0</td>\n",
       "      <td>1</td>\n",
       "    </tr>\n",
       "    <tr>\n",
       "      <th>4</th>\n",
       "      <td>32</td>\n",
       "      <td>28.9</td>\n",
       "      <td>0</td>\n",
       "      <td>3866.86</td>\n",
       "      <td>0</td>\n",
       "      <td>1</td>\n",
       "      <td>0</td>\n",
       "      <td>0</td>\n",
       "      <td>1</td>\n",
       "    </tr>\n",
       "    <tr>\n",
       "      <th>5</th>\n",
       "      <td>31</td>\n",
       "      <td>25.7</td>\n",
       "      <td>0</td>\n",
       "      <td>3756.62</td>\n",
       "      <td>0</td>\n",
       "      <td>0</td>\n",
       "      <td>1</td>\n",
       "      <td>0</td>\n",
       "      <td>0</td>\n",
       "    </tr>\n",
       "    <tr>\n",
       "      <th>6</th>\n",
       "      <td>46</td>\n",
       "      <td>33.4</td>\n",
       "      <td>1</td>\n",
       "      <td>8240.59</td>\n",
       "      <td>0</td>\n",
       "      <td>0</td>\n",
       "      <td>1</td>\n",
       "      <td>0</td>\n",
       "      <td>0</td>\n",
       "    </tr>\n",
       "    <tr>\n",
       "      <th>7</th>\n",
       "      <td>37</td>\n",
       "      <td>27.7</td>\n",
       "      <td>3</td>\n",
       "      <td>7281.51</td>\n",
       "      <td>0</td>\n",
       "      <td>1</td>\n",
       "      <td>0</td>\n",
       "      <td>0</td>\n",
       "      <td>0</td>\n",
       "    </tr>\n",
       "    <tr>\n",
       "      <th>8</th>\n",
       "      <td>37</td>\n",
       "      <td>29.8</td>\n",
       "      <td>2</td>\n",
       "      <td>6406.41</td>\n",
       "      <td>0</td>\n",
       "      <td>0</td>\n",
       "      <td>0</td>\n",
       "      <td>0</td>\n",
       "      <td>1</td>\n",
       "    </tr>\n",
       "    <tr>\n",
       "      <th>9</th>\n",
       "      <td>60</td>\n",
       "      <td>25.8</td>\n",
       "      <td>0</td>\n",
       "      <td>28923.14</td>\n",
       "      <td>0</td>\n",
       "      <td>1</td>\n",
       "      <td>0</td>\n",
       "      <td>0</td>\n",
       "      <td>0</td>\n",
       "    </tr>\n",
       "  </tbody>\n",
       "</table>\n",
       "</div>"
      ],
      "text/plain": [
       "   age   bmi  children  expenses  smoker_yes  region_northwest  \\\n",
       "0   19  27.9         0  16884.92           1                 0   \n",
       "1   18  33.8         1   1725.55           0                 0   \n",
       "2   28  33.0         3   4449.46           0                 0   \n",
       "3   33  22.7         0  21984.47           0                 1   \n",
       "4   32  28.9         0   3866.86           0                 1   \n",
       "5   31  25.7         0   3756.62           0                 0   \n",
       "6   46  33.4         1   8240.59           0                 0   \n",
       "7   37  27.7         3   7281.51           0                 1   \n",
       "8   37  29.8         2   6406.41           0                 0   \n",
       "9   60  25.8         0  28923.14           0                 1   \n",
       "\n",
       "   region_southeast  region_southwest  sex_male  \n",
       "0                 0                 1         0  \n",
       "1                 1                 0         1  \n",
       "2                 1                 0         1  \n",
       "3                 0                 0         1  \n",
       "4                 0                 0         1  \n",
       "5                 1                 0         0  \n",
       "6                 1                 0         0  \n",
       "7                 0                 0         0  \n",
       "8                 0                 0         1  \n",
       "9                 0                 0         0  "
      ]
     },
     "execution_count": 113,
     "metadata": {},
     "output_type": "execute_result"
    }
   ],
   "source": [
    "one_hot=pd.get_dummies(insurance[cat_col],drop_first=True)\n",
    "insurance=pd.concat([insurance[num_col],one_hot],axis=1)\n",
    "insurance.head(10)"
   ]
  },
  {
   "cell_type": "code",
   "execution_count": 114,
   "metadata": {
    "colab": {},
    "colab_type": "code",
    "id": "L8N7KZYipBxJ"
   },
   "outputs": [],
   "source": [
    "X = insurance.drop(['expenses'], axis = 1)\n",
    "y = insurance.expenses"
   ]
  },
  {
   "cell_type": "code",
   "execution_count": 115,
   "metadata": {
    "colab": {},
    "colab_type": "code",
    "id": "etO93I9fpBxM"
   },
   "outputs": [],
   "source": [
    "# Train test split\n",
    "\n",
    "from sklearn.model_selection import train_test_split\n",
    "from sklearn.linear_model import LinearRegression\n",
    "\n",
    "X_train, X_test, y_train, y_test = train_test_split(X, y, test_size = 0.2, random_state = 0)\n"
   ]
  },
  {
   "cell_type": "code",
   "execution_count": 116,
   "metadata": {},
   "outputs": [
    {
     "data": {
      "text/html": [
       "<div>\n",
       "<style scoped>\n",
       "    .dataframe tbody tr th:only-of-type {\n",
       "        vertical-align: middle;\n",
       "    }\n",
       "\n",
       "    .dataframe tbody tr th {\n",
       "        vertical-align: top;\n",
       "    }\n",
       "\n",
       "    .dataframe thead th {\n",
       "        text-align: right;\n",
       "    }\n",
       "</style>\n",
       "<table border=\"1\" class=\"dataframe\">\n",
       "  <thead>\n",
       "    <tr style=\"text-align: right;\">\n",
       "      <th></th>\n",
       "      <th>age</th>\n",
       "      <th>bmi</th>\n",
       "      <th>children</th>\n",
       "      <th>smoker_yes</th>\n",
       "      <th>region_northwest</th>\n",
       "      <th>region_southeast</th>\n",
       "      <th>region_southwest</th>\n",
       "      <th>sex_male</th>\n",
       "    </tr>\n",
       "  </thead>\n",
       "  <tbody>\n",
       "    <tr>\n",
       "      <th>621</th>\n",
       "      <td>37</td>\n",
       "      <td>34.1</td>\n",
       "      <td>4</td>\n",
       "      <td>1</td>\n",
       "      <td>0</td>\n",
       "      <td>0</td>\n",
       "      <td>1</td>\n",
       "      <td>1</td>\n",
       "    </tr>\n",
       "    <tr>\n",
       "      <th>194</th>\n",
       "      <td>18</td>\n",
       "      <td>34.4</td>\n",
       "      <td>0</td>\n",
       "      <td>0</td>\n",
       "      <td>0</td>\n",
       "      <td>1</td>\n",
       "      <td>0</td>\n",
       "      <td>1</td>\n",
       "    </tr>\n",
       "    <tr>\n",
       "      <th>240</th>\n",
       "      <td>23</td>\n",
       "      <td>36.7</td>\n",
       "      <td>2</td>\n",
       "      <td>1</td>\n",
       "      <td>0</td>\n",
       "      <td>0</td>\n",
       "      <td>0</td>\n",
       "      <td>0</td>\n",
       "    </tr>\n",
       "    <tr>\n",
       "      <th>1168</th>\n",
       "      <td>32</td>\n",
       "      <td>35.2</td>\n",
       "      <td>2</td>\n",
       "      <td>0</td>\n",
       "      <td>0</td>\n",
       "      <td>0</td>\n",
       "      <td>1</td>\n",
       "      <td>1</td>\n",
       "    </tr>\n",
       "    <tr>\n",
       "      <th>1192</th>\n",
       "      <td>58</td>\n",
       "      <td>32.4</td>\n",
       "      <td>1</td>\n",
       "      <td>0</td>\n",
       "      <td>0</td>\n",
       "      <td>0</td>\n",
       "      <td>0</td>\n",
       "      <td>0</td>\n",
       "    </tr>\n",
       "    <tr>\n",
       "      <th>...</th>\n",
       "      <td>...</td>\n",
       "      <td>...</td>\n",
       "      <td>...</td>\n",
       "      <td>...</td>\n",
       "      <td>...</td>\n",
       "      <td>...</td>\n",
       "      <td>...</td>\n",
       "      <td>...</td>\n",
       "    </tr>\n",
       "    <tr>\n",
       "      <th>763</th>\n",
       "      <td>27</td>\n",
       "      <td>26.0</td>\n",
       "      <td>0</td>\n",
       "      <td>0</td>\n",
       "      <td>0</td>\n",
       "      <td>0</td>\n",
       "      <td>0</td>\n",
       "      <td>1</td>\n",
       "    </tr>\n",
       "    <tr>\n",
       "      <th>835</th>\n",
       "      <td>42</td>\n",
       "      <td>36.0</td>\n",
       "      <td>2</td>\n",
       "      <td>0</td>\n",
       "      <td>0</td>\n",
       "      <td>1</td>\n",
       "      <td>0</td>\n",
       "      <td>1</td>\n",
       "    </tr>\n",
       "    <tr>\n",
       "      <th>1216</th>\n",
       "      <td>40</td>\n",
       "      <td>25.1</td>\n",
       "      <td>0</td>\n",
       "      <td>0</td>\n",
       "      <td>0</td>\n",
       "      <td>1</td>\n",
       "      <td>0</td>\n",
       "      <td>1</td>\n",
       "    </tr>\n",
       "    <tr>\n",
       "      <th>559</th>\n",
       "      <td>19</td>\n",
       "      <td>35.5</td>\n",
       "      <td>0</td>\n",
       "      <td>0</td>\n",
       "      <td>1</td>\n",
       "      <td>0</td>\n",
       "      <td>0</td>\n",
       "      <td>1</td>\n",
       "    </tr>\n",
       "    <tr>\n",
       "      <th>684</th>\n",
       "      <td>33</td>\n",
       "      <td>18.5</td>\n",
       "      <td>1</td>\n",
       "      <td>0</td>\n",
       "      <td>0</td>\n",
       "      <td>0</td>\n",
       "      <td>1</td>\n",
       "      <td>0</td>\n",
       "    </tr>\n",
       "  </tbody>\n",
       "</table>\n",
       "<p>1070 rows × 8 columns</p>\n",
       "</div>"
      ],
      "text/plain": [
       "      age   bmi  children  smoker_yes  region_northwest  region_southeast  \\\n",
       "621    37  34.1         4           1                 0                 0   \n",
       "194    18  34.4         0           0                 0                 1   \n",
       "240    23  36.7         2           1                 0                 0   \n",
       "1168   32  35.2         2           0                 0                 0   \n",
       "1192   58  32.4         1           0                 0                 0   \n",
       "...   ...   ...       ...         ...               ...               ...   \n",
       "763    27  26.0         0           0                 0                 0   \n",
       "835    42  36.0         2           0                 0                 1   \n",
       "1216   40  25.1         0           0                 0                 1   \n",
       "559    19  35.5         0           0                 1                 0   \n",
       "684    33  18.5         1           0                 0                 0   \n",
       "\n",
       "      region_southwest  sex_male  \n",
       "621                  1         1  \n",
       "194                  0         1  \n",
       "240                  0         0  \n",
       "1168                 1         1  \n",
       "1192                 0         0  \n",
       "...                ...       ...  \n",
       "763                  0         1  \n",
       "835                  0         1  \n",
       "1216                 0         1  \n",
       "559                  0         1  \n",
       "684                  1         0  \n",
       "\n",
       "[1070 rows x 8 columns]"
      ]
     },
     "execution_count": 116,
     "metadata": {},
     "output_type": "execute_result"
    }
   ],
   "source": [
    "pd.DataFrame(X_train)"
   ]
  },
  {
   "cell_type": "code",
   "execution_count": 118,
   "metadata": {},
   "outputs": [
    {
     "data": {
      "text/html": [
       "<div>\n",
       "<style scoped>\n",
       "    .dataframe tbody tr th:only-of-type {\n",
       "        vertical-align: middle;\n",
       "    }\n",
       "\n",
       "    .dataframe tbody tr th {\n",
       "        vertical-align: top;\n",
       "    }\n",
       "\n",
       "    .dataframe thead th {\n",
       "        text-align: right;\n",
       "    }\n",
       "</style>\n",
       "<table border=\"1\" class=\"dataframe\">\n",
       "  <thead>\n",
       "    <tr style=\"text-align: right;\">\n",
       "      <th></th>\n",
       "      <th>age</th>\n",
       "      <th>bmi</th>\n",
       "      <th>children</th>\n",
       "      <th>smoker_yes</th>\n",
       "      <th>region_northwest</th>\n",
       "      <th>region_southeast</th>\n",
       "      <th>region_southwest</th>\n",
       "      <th>sex_male</th>\n",
       "    </tr>\n",
       "  </thead>\n",
       "  <tbody>\n",
       "    <tr>\n",
       "      <th>578</th>\n",
       "      <td>52</td>\n",
       "      <td>30.2</td>\n",
       "      <td>1</td>\n",
       "      <td>0</td>\n",
       "      <td>0</td>\n",
       "      <td>0</td>\n",
       "      <td>1</td>\n",
       "      <td>1</td>\n",
       "    </tr>\n",
       "    <tr>\n",
       "      <th>610</th>\n",
       "      <td>47</td>\n",
       "      <td>29.4</td>\n",
       "      <td>1</td>\n",
       "      <td>0</td>\n",
       "      <td>0</td>\n",
       "      <td>1</td>\n",
       "      <td>0</td>\n",
       "      <td>0</td>\n",
       "    </tr>\n",
       "    <tr>\n",
       "      <th>569</th>\n",
       "      <td>48</td>\n",
       "      <td>40.6</td>\n",
       "      <td>2</td>\n",
       "      <td>1</td>\n",
       "      <td>1</td>\n",
       "      <td>0</td>\n",
       "      <td>0</td>\n",
       "      <td>1</td>\n",
       "    </tr>\n",
       "    <tr>\n",
       "      <th>1034</th>\n",
       "      <td>61</td>\n",
       "      <td>38.4</td>\n",
       "      <td>0</td>\n",
       "      <td>0</td>\n",
       "      <td>1</td>\n",
       "      <td>0</td>\n",
       "      <td>0</td>\n",
       "      <td>1</td>\n",
       "    </tr>\n",
       "    <tr>\n",
       "      <th>198</th>\n",
       "      <td>51</td>\n",
       "      <td>18.1</td>\n",
       "      <td>0</td>\n",
       "      <td>0</td>\n",
       "      <td>1</td>\n",
       "      <td>0</td>\n",
       "      <td>0</td>\n",
       "      <td>0</td>\n",
       "    </tr>\n",
       "    <tr>\n",
       "      <th>...</th>\n",
       "      <td>...</td>\n",
       "      <td>...</td>\n",
       "      <td>...</td>\n",
       "      <td>...</td>\n",
       "      <td>...</td>\n",
       "      <td>...</td>\n",
       "      <td>...</td>\n",
       "      <td>...</td>\n",
       "    </tr>\n",
       "    <tr>\n",
       "      <th>1084</th>\n",
       "      <td>62</td>\n",
       "      <td>30.5</td>\n",
       "      <td>2</td>\n",
       "      <td>0</td>\n",
       "      <td>1</td>\n",
       "      <td>0</td>\n",
       "      <td>0</td>\n",
       "      <td>0</td>\n",
       "    </tr>\n",
       "    <tr>\n",
       "      <th>726</th>\n",
       "      <td>41</td>\n",
       "      <td>28.4</td>\n",
       "      <td>1</td>\n",
       "      <td>0</td>\n",
       "      <td>1</td>\n",
       "      <td>0</td>\n",
       "      <td>0</td>\n",
       "      <td>1</td>\n",
       "    </tr>\n",
       "    <tr>\n",
       "      <th>1132</th>\n",
       "      <td>57</td>\n",
       "      <td>40.3</td>\n",
       "      <td>0</td>\n",
       "      <td>0</td>\n",
       "      <td>0</td>\n",
       "      <td>0</td>\n",
       "      <td>0</td>\n",
       "      <td>1</td>\n",
       "    </tr>\n",
       "    <tr>\n",
       "      <th>725</th>\n",
       "      <td>30</td>\n",
       "      <td>39.1</td>\n",
       "      <td>3</td>\n",
       "      <td>1</td>\n",
       "      <td>0</td>\n",
       "      <td>1</td>\n",
       "      <td>0</td>\n",
       "      <td>0</td>\n",
       "    </tr>\n",
       "    <tr>\n",
       "      <th>963</th>\n",
       "      <td>46</td>\n",
       "      <td>24.8</td>\n",
       "      <td>3</td>\n",
       "      <td>0</td>\n",
       "      <td>0</td>\n",
       "      <td>0</td>\n",
       "      <td>0</td>\n",
       "      <td>1</td>\n",
       "    </tr>\n",
       "  </tbody>\n",
       "</table>\n",
       "<p>268 rows × 8 columns</p>\n",
       "</div>"
      ],
      "text/plain": [
       "      age   bmi  children  smoker_yes  region_northwest  region_southeast  \\\n",
       "578    52  30.2         1           0                 0                 0   \n",
       "610    47  29.4         1           0                 0                 1   \n",
       "569    48  40.6         2           1                 1                 0   \n",
       "1034   61  38.4         0           0                 1                 0   \n",
       "198    51  18.1         0           0                 1                 0   \n",
       "...   ...   ...       ...         ...               ...               ...   \n",
       "1084   62  30.5         2           0                 1                 0   \n",
       "726    41  28.4         1           0                 1                 0   \n",
       "1132   57  40.3         0           0                 0                 0   \n",
       "725    30  39.1         3           1                 0                 1   \n",
       "963    46  24.8         3           0                 0                 0   \n",
       "\n",
       "      region_southwest  sex_male  \n",
       "578                  1         1  \n",
       "610                  0         0  \n",
       "569                  0         1  \n",
       "1034                 0         1  \n",
       "198                  0         0  \n",
       "...                ...       ...  \n",
       "1084                 0         0  \n",
       "726                  0         1  \n",
       "1132                 0         1  \n",
       "725                  0         0  \n",
       "963                  0         1  \n",
       "\n",
       "[268 rows x 8 columns]"
      ]
     },
     "execution_count": 118,
     "metadata": {},
     "output_type": "execute_result"
    }
   ],
   "source": [
    "pd.DataFrame(X_test)"
   ]
  },
  {
   "cell_type": "code",
   "execution_count": 119,
   "metadata": {},
   "outputs": [],
   "source": [
    "std_age = StandardScaler()\n",
    "X_train.age = std_age.fit_transform(np.array(X_train.age).reshape(-1,1))"
   ]
  },
  {
   "cell_type": "code",
   "execution_count": 120,
   "metadata": {},
   "outputs": [],
   "source": [
    "X_test.age =  std_age.transform(np.array(X_test.age).reshape(-1,1))"
   ]
  },
  {
   "cell_type": "code",
   "execution_count": 122,
   "metadata": {},
   "outputs": [],
   "source": [
    "file = open('age_scale.pkl','wb')\n",
    "pickle.dump(std_age,file)\n",
    "file.close()"
   ]
  },
  {
   "cell_type": "code",
   "execution_count": 123,
   "metadata": {},
   "outputs": [],
   "source": [
    "std_bmi = StandardScaler()\n",
    "X_train.bmi = std_bmi.fit_transform(np.array(X_train.bmi).reshape(-1,1))"
   ]
  },
  {
   "cell_type": "code",
   "execution_count": 124,
   "metadata": {},
   "outputs": [],
   "source": [
    "X_test.bmi = std_bmi.transform(np.array(X_test.bmi).reshape(-1,1))"
   ]
  },
  {
   "cell_type": "code",
   "execution_count": 125,
   "metadata": {},
   "outputs": [],
   "source": [
    "file = open('bmi_scale.pkl','wb')\n",
    "pickle.dump(std_bmi,file)\n",
    "file.close()"
   ]
  },
  {
   "cell_type": "code",
   "execution_count": 126,
   "metadata": {},
   "outputs": [],
   "source": [
    "std_children = StandardScaler()\n",
    "X_train.children = std_children.fit_transform(np.array(X_train.children).reshape(-1,1))"
   ]
  },
  {
   "cell_type": "code",
   "execution_count": 127,
   "metadata": {},
   "outputs": [],
   "source": [
    "X_test.children = std_children.transform(np.array(X_test.children).reshape(-1,1))"
   ]
  },
  {
   "cell_type": "code",
   "execution_count": 128,
   "metadata": {},
   "outputs": [],
   "source": [
    "file = open('children_scale.pkl','wb')\n",
    "pickle.dump(std_children,file)\n",
    "file.close()"
   ]
  },
  {
   "cell_type": "code",
   "execution_count": 129,
   "metadata": {},
   "outputs": [],
   "source": [
    "std_smoker = StandardScaler()\n",
    "X_train.smoker_yes = std_smoker.fit_transform(np.array(X_train.smoker_yes).reshape(-1,1))"
   ]
  },
  {
   "cell_type": "code",
   "execution_count": 130,
   "metadata": {},
   "outputs": [],
   "source": [
    "X_test.smoker_yes = std_smoker.transform(np.array(X_test.smoker_yes).reshape(-1,1))"
   ]
  },
  {
   "cell_type": "code",
   "execution_count": 131,
   "metadata": {},
   "outputs": [],
   "source": [
    "file = open('smoker_scale.pkl','wb')\n",
    "pickle.dump(std_smoker,file)\n",
    "file.close()"
   ]
  },
  {
   "cell_type": "code",
   "execution_count": 132,
   "metadata": {},
   "outputs": [],
   "source": [
    "std_regionNW = StandardScaler()\n",
    "X_train.region_northwest = std_regionNW.fit_transform(np.array(X_train.region_northwest).reshape(-1,1))"
   ]
  },
  {
   "cell_type": "code",
   "execution_count": 133,
   "metadata": {},
   "outputs": [],
   "source": [
    "X_test.region_northwest = std_regionNW.transform(np.array(X_test.region_northwest).reshape(-1,1))"
   ]
  },
  {
   "cell_type": "code",
   "execution_count": 134,
   "metadata": {},
   "outputs": [],
   "source": [
    "file = open('regionNorthWest_scale.pkl','wb')\n",
    "pickle.dump(std_regionNW,file)\n",
    "file.close()"
   ]
  },
  {
   "cell_type": "code",
   "execution_count": 135,
   "metadata": {},
   "outputs": [],
   "source": [
    "std_regionSW = StandardScaler()\n",
    "X_train.region_southwest = std_regionSW.fit_transform(np.array(X_train.region_southwest).reshape(-1,1))"
   ]
  },
  {
   "cell_type": "code",
   "execution_count": 136,
   "metadata": {},
   "outputs": [],
   "source": [
    "X_test.region_southwest = std_regionSW.transform(np.array(X_test.region_southwest).reshape(-1,1))"
   ]
  },
  {
   "cell_type": "code",
   "execution_count": 137,
   "metadata": {},
   "outputs": [],
   "source": [
    "file = open('regionSouthWest_scale.pkl','wb')\n",
    "pickle.dump(std_regionSW,file)\n",
    "file.close()"
   ]
  },
  {
   "cell_type": "code",
   "execution_count": 138,
   "metadata": {},
   "outputs": [],
   "source": [
    "std_regionSE = StandardScaler()\n",
    "X_train.region_southeast = std_regionSE.fit_transform(np.array(X_train.region_southeast).reshape(-1,1))"
   ]
  },
  {
   "cell_type": "code",
   "execution_count": 139,
   "metadata": {},
   "outputs": [],
   "source": [
    "X_test.region_southeast = std_regionSE.transform(np.array(X_test.region_southeast).reshape(-1,1))"
   ]
  },
  {
   "cell_type": "code",
   "execution_count": 140,
   "metadata": {},
   "outputs": [],
   "source": [
    "file = open('regionSouthEast_scale.pkl','wb')\n",
    "pickle.dump(std_regionSE,file)\n",
    "file.close()"
   ]
  },
  {
   "cell_type": "code",
   "execution_count": 141,
   "metadata": {},
   "outputs": [],
   "source": [
    "std_sex = StandardScaler()\n",
    "X_train.sex_male = std_sex.fit_transform(np.array(X_train.sex_male).reshape(-1,1))"
   ]
  },
  {
   "cell_type": "code",
   "execution_count": 142,
   "metadata": {},
   "outputs": [],
   "source": [
    "X_test.sex_male = std_sex.transform(np.array(X_test.sex_male).reshape(-1,1))"
   ]
  },
  {
   "cell_type": "code",
   "execution_count": 143,
   "metadata": {},
   "outputs": [],
   "source": [
    "file = open('sex_scale.pkl','wb')\n",
    "pickle.dump(std_sex,file)\n",
    "file.close()"
   ]
  },
  {
   "cell_type": "code",
   "execution_count": 144,
   "metadata": {
    "colab": {},
    "colab_type": "code",
    "id": "P5b2xylEpBxP"
   },
   "outputs": [],
   "source": [
    "# #Standardisation the data is also an option\n",
    "# sc = StandardScaler()\n",
    "# X_train = sc.fit_transform(X_train)\n",
    "# X_test = sc.transform(X_test)\n"
   ]
  },
  {
   "cell_type": "code",
   "execution_count": 145,
   "metadata": {
    "scrolled": true
   },
   "outputs": [
    {
     "data": {
      "text/html": [
       "<div>\n",
       "<style scoped>\n",
       "    .dataframe tbody tr th:only-of-type {\n",
       "        vertical-align: middle;\n",
       "    }\n",
       "\n",
       "    .dataframe tbody tr th {\n",
       "        vertical-align: top;\n",
       "    }\n",
       "\n",
       "    .dataframe thead th {\n",
       "        text-align: right;\n",
       "    }\n",
       "</style>\n",
       "<table border=\"1\" class=\"dataframe\">\n",
       "  <thead>\n",
       "    <tr style=\"text-align: right;\">\n",
       "      <th></th>\n",
       "      <th>age</th>\n",
       "      <th>bmi</th>\n",
       "      <th>children</th>\n",
       "      <th>smoker_yes</th>\n",
       "      <th>region_northwest</th>\n",
       "      <th>region_southeast</th>\n",
       "      <th>region_southwest</th>\n",
       "      <th>sex_male</th>\n",
       "    </tr>\n",
       "  </thead>\n",
       "  <tbody>\n",
       "    <tr>\n",
       "      <th>621</th>\n",
       "      <td>-0.148533</td>\n",
       "      <td>0.54494</td>\n",
       "      <td>2.413948</td>\n",
       "      <td>1.971255</td>\n",
       "      <td>-0.55792</td>\n",
       "      <td>-0.615521</td>\n",
       "      <td>1.708629</td>\n",
       "      <td>1.015067</td>\n",
       "    </tr>\n",
       "  </tbody>\n",
       "</table>\n",
       "</div>"
      ],
      "text/plain": [
       "          age      bmi  children  smoker_yes  region_northwest  \\\n",
       "621 -0.148533  0.54494  2.413948    1.971255          -0.55792   \n",
       "\n",
       "     region_southeast  region_southwest  sex_male  \n",
       "621         -0.615521          1.708629  1.015067  "
      ]
     },
     "execution_count": 145,
     "metadata": {},
     "output_type": "execute_result"
    }
   ],
   "source": [
    "X_train.head(1)"
   ]
  },
  {
   "cell_type": "code",
   "execution_count": 146,
   "metadata": {},
   "outputs": [
    {
     "data": {
      "text/html": [
       "<div>\n",
       "<style scoped>\n",
       "    .dataframe tbody tr th:only-of-type {\n",
       "        vertical-align: middle;\n",
       "    }\n",
       "\n",
       "    .dataframe tbody tr th {\n",
       "        vertical-align: top;\n",
       "    }\n",
       "\n",
       "    .dataframe thead th {\n",
       "        text-align: right;\n",
       "    }\n",
       "</style>\n",
       "<table border=\"1\" class=\"dataframe\">\n",
       "  <thead>\n",
       "    <tr style=\"text-align: right;\">\n",
       "      <th></th>\n",
       "      <th>age</th>\n",
       "      <th>bmi</th>\n",
       "      <th>children</th>\n",
       "      <th>smoker_yes</th>\n",
       "      <th>region_northwest</th>\n",
       "      <th>region_southeast</th>\n",
       "      <th>region_southwest</th>\n",
       "      <th>sex_male</th>\n",
       "    </tr>\n",
       "  </thead>\n",
       "  <tbody>\n",
       "    <tr>\n",
       "      <th>578</th>\n",
       "      <td>0.916684</td>\n",
       "      <td>-0.085738</td>\n",
       "      <td>-0.065659</td>\n",
       "      <td>-0.507291</td>\n",
       "      <td>-0.55792</td>\n",
       "      <td>-0.615521</td>\n",
       "      <td>1.708629</td>\n",
       "      <td>1.015067</td>\n",
       "    </tr>\n",
       "  </tbody>\n",
       "</table>\n",
       "</div>"
      ],
      "text/plain": [
       "          age       bmi  children  smoker_yes  region_northwest  \\\n",
       "578  0.916684 -0.085738 -0.065659   -0.507291          -0.55792   \n",
       "\n",
       "     region_southeast  region_southwest  sex_male  \n",
       "578         -0.615521          1.708629  1.015067  "
      ]
     },
     "execution_count": 146,
     "metadata": {},
     "output_type": "execute_result"
    }
   ],
   "source": [
    "X_test.head(1)"
   ]
  },
  {
   "cell_type": "code",
   "execution_count": 147,
   "metadata": {},
   "outputs": [
    {
     "data": {
      "text/plain": [
       "array([[-0.14853305]])"
      ]
     },
     "execution_count": 147,
     "metadata": {},
     "output_type": "execute_result"
    }
   ],
   "source": [
    "std_age.transform(np.array(37).reshape(-1,1))     "
   ]
  },
  {
   "cell_type": "code",
   "execution_count": 148,
   "metadata": {},
   "outputs": [
    {
     "data": {
      "text/plain": [
       "array([[0.91668389]])"
      ]
     },
     "execution_count": 148,
     "metadata": {},
     "output_type": "execute_result"
    }
   ],
   "source": [
    "std_age.transform(np.array(52).reshape(-1,1))     "
   ]
  },
  {
   "cell_type": "markdown",
   "metadata": {},
   "source": [
    "## Linear Regession"
   ]
  },
  {
   "cell_type": "code",
   "execution_count": 52,
   "metadata": {
    "colab": {},
    "colab_type": "code",
    "id": "dcZ_A7dApBxY"
   },
   "outputs": [
    {
     "data": {
      "text/plain": [
       "LinearRegression(fit_intercept=False)"
      ]
     },
     "execution_count": 52,
     "metadata": {},
     "output_type": "execute_result"
    }
   ],
   "source": [
    "from sklearn.linear_model import LinearRegression  # Import Linear Regression model\n",
    "\n",
    "multiple_linear_reg = LinearRegression(fit_intercept=False)  # Create a instance for Linear Regression model\n",
    "multiple_linear_reg.fit(X_train, y_train)  # Fit data to the model"
   ]
  },
  {
   "cell_type": "code",
   "execution_count": 53,
   "metadata": {
    "colab": {},
    "colab_type": "code",
    "id": "zKPvjwKApBx4",
    "scrolled": true
   },
   "outputs": [
    {
     "name": "stdout",
     "output_type": "stream",
     "text": [
      "Training Accuracy for Multiple Linear Regression Model:  -0.47853008120571827\n",
      "Testing Accuracy for Multiple Linear Regression Model:  -0.3300569682649874\n",
      "RMSE for Training Data:  14559.229579026976\n",
      "RMSE for Testing Data:  14548.261617299797\n",
      "Accuracy for 10-Fold Cross Predicted Multiple Linaer Regression Model:  0.7202867211723507\n"
     ]
    }
   ],
   "source": [
    "## Accuracy with vanilla multiple linear regression\n",
    "\n",
    "# Prediction with training dataset:\n",
    "y_pred_MLR_train = multiple_linear_reg.predict(X_train)\n",
    "\n",
    "# Prediction with testing dataset:\n",
    "y_pred_MLR_test = multiple_linear_reg.predict(X_test)\n",
    "\n",
    "# Find training accuracy for this model:\n",
    "accuracy_MLR_train = r2_score(y_train, y_pred_MLR_train)\n",
    "print(\"Training Accuracy for Multiple Linear Regression Model: \", accuracy_MLR_train)\n",
    "\n",
    "# Find testing accuracy for this model:\n",
    "accuracy_MLR_test = r2_score(y_test, y_pred_MLR_test)\n",
    "print(\"Testing Accuracy for Multiple Linear Regression Model: \", accuracy_MLR_test)\n",
    "\n",
    "# Find RMSE for training data:\n",
    "RMSE_MLR_train = sqrt(mean_squared_error(y_train, y_pred_MLR_train))\n",
    "print(\"RMSE for Training Data: \", RMSE_MLR_train)\n",
    "\n",
    "# Find RMSE for testing data:\n",
    "RMSE_MLR_test = sqrt(mean_squared_error(y_test, y_pred_MLR_test))\n",
    "print(\"RMSE for Testing Data: \", RMSE_MLR_test)\n",
    "\n",
    "# Prediction with 10-Fold Cross Validation:\n",
    "y_pred_cv_MLR = cross_val_predict(multiple_linear_reg, X, y, cv=10)\n",
    "\n",
    "# Find accuracy after 10-Fold Cross Validation\n",
    "accuracy_cv_MLR = r2_score(y, y_pred_cv_MLR)\n",
    "print(\"Accuracy for 10-Fold Cross Predicted Multiple Linaer Regression Model: \", accuracy_cv_MLR)"
   ]
  },
  {
   "cell_type": "markdown",
   "metadata": {},
   "source": [
    "## Linear Regression with Polynomial Features"
   ]
  },
  {
   "cell_type": "code",
   "execution_count": 54,
   "metadata": {
    "colab": {},
    "colab_type": "code",
    "id": "biN3mVvqpBxd"
   },
   "outputs": [
    {
     "data": {
      "text/plain": [
       "LinearRegression(fit_intercept=False)"
      ]
     },
     "execution_count": 54,
     "metadata": {},
     "output_type": "execute_result"
    }
   ],
   "source": [
    "from sklearn.preprocessing import PolynomialFeatures\n",
    "\n",
    "polynomial_features = PolynomialFeatures(degree=2)  # Create a PolynomialFeatures instance in degree 3\n",
    "x_train_poly = polynomial_features.fit_transform(X_train)  # Fit and transform the training data to polynomial\n",
    "x_test_poly = polynomial_features.fit_transform(X_test)  # Fit and transform the testing data to polynomial\n",
    "\n",
    "polynomial_reg = LinearRegression(fit_intercept=False)  # Create a instance for Linear Regression model\n",
    "polynomial_reg.fit(x_train_poly, y_train)  # Fit data to the model"
   ]
  },
  {
   "cell_type": "code",
   "execution_count": 55,
   "metadata": {
    "colab": {},
    "colab_type": "code",
    "id": "0CqOZQTIpBxh"
   },
   "outputs": [
    {
     "data": {
      "text/plain": [
       "(1070, 45)"
      ]
     },
     "execution_count": 55,
     "metadata": {},
     "output_type": "execute_result"
    }
   ],
   "source": [
    "x_train_poly.shape"
   ]
  },
  {
   "cell_type": "code",
   "execution_count": 56,
   "metadata": {
    "colab": {},
    "colab_type": "code",
    "id": "kS0AxRTypBx8"
   },
   "outputs": [
    {
     "name": "stdout",
     "output_type": "stream",
     "text": [
      "Training Accuracy for Polynomial Regression Model:  0.8374241430113881\n",
      "Testing Accuracy for Polynomial Regression Model:  0.8802979087211543\n",
      "RMSE for Training Data:  4827.82298329519\n",
      "RMSE for Testing Data:  4364.423140645322\n",
      "Accuracy for 10-Fold Cross Predicted Polynomial Regression Model:  0.837899583778298\n"
     ]
    }
   ],
   "source": [
    "## Checking accuracy with Linear model with polynomial features\n",
    "\n",
    "# Prediction with training dataset:\n",
    "y_pred_PR_train = polynomial_reg.predict(x_train_poly)\n",
    "\n",
    "# Prediction with testing dataset:\n",
    "y_pred_PR_test = polynomial_reg.predict(x_test_poly)\n",
    "\n",
    "# Find training accuracy for this model:\n",
    "accuracy_PR_train = r2_score(y_train, y_pred_PR_train)\n",
    "print(\"Training Accuracy for Polynomial Regression Model: \", accuracy_PR_train)\n",
    "\n",
    "# Find testing accuracy for this model:\n",
    "accuracy_PR_test = r2_score(y_test, y_pred_PR_test)\n",
    "print(\"Testing Accuracy for Polynomial Regression Model: \", accuracy_PR_test)\n",
    "\n",
    "# Find RMSE for training data:\n",
    "RMSE_PR_train = sqrt(mean_squared_error(y_train, y_pred_PR_train))\n",
    "print(\"RMSE for Training Data: \", RMSE_PR_train)\n",
    "\n",
    "# Find RMSE for testing data:\n",
    "RMSE_PR_test = sqrt(mean_squared_error(y_test, y_pred_PR_test))\n",
    "print(\"RMSE for Testing Data: \", RMSE_PR_test)\n",
    "\n",
    "# Prediction with 10-Fold Cross Validation:\n",
    "y_pred_cv_PR = cross_val_predict(polynomial_reg, polynomial_features.fit_transform(X), y, cv=10)\n",
    "\n",
    "# Find accuracy after 10-Fold Cross Validation\n",
    "accuracy_cv_PR = r2_score(y, y_pred_cv_PR)\n",
    "print(\"Accuracy for 10-Fold Cross Predicted Polynomial Regression Model: \", accuracy_cv_PR)"
   ]
  },
  {
   "cell_type": "code",
   "execution_count": 57,
   "metadata": {},
   "outputs": [],
   "source": [
    "file = open('linear_polynomial.pkl','wb')\n",
    "pickle.dump(polynomial_reg, file)\n",
    "file.close()"
   ]
  },
  {
   "cell_type": "markdown",
   "metadata": {},
   "source": [
    "## Decision Trees"
   ]
  },
  {
   "cell_type": "code",
   "execution_count": 58,
   "metadata": {
    "colab": {},
    "colab_type": "code",
    "id": "4DuxCyvZpBxm"
   },
   "outputs": [
    {
     "data": {
      "text/plain": [
       "DecisionTreeRegressor(max_depth=4, random_state=13)"
      ]
     },
     "execution_count": 58,
     "metadata": {},
     "output_type": "execute_result"
    }
   ],
   "source": [
    "from sklearn.tree import DecisionTreeRegressor  # Import Decision Tree Regression model\n",
    "\n",
    "decision_tree_reg = DecisionTreeRegressor(max_depth=4, random_state=13)  # Create a instance for Decision Tree Regression model\n",
    "decision_tree_reg.fit(X_train, y_train)  # Fit data to the model"
   ]
  },
  {
   "cell_type": "code",
   "execution_count": 59,
   "metadata": {
    "colab": {},
    "colab_type": "code",
    "id": "PIbHuUDnpByA"
   },
   "outputs": [
    {
     "name": "stdout",
     "output_type": "stream",
     "text": [
      "Training Accuracy for Decision Tree Regression Model:  0.857987286659203\n",
      "Testing Accuracy for Decision Tree Regression Model:  0.8802320436057114\n",
      "RMSE for Training Data:  4512.185281427831\n",
      "RMSE for Testing Data:  4365.623719926021\n",
      "Accuracy for 10-Fold Cross Predicted Decision Tree Regression Model:  0.8497702713440254\n"
     ]
    }
   ],
   "source": [
    "## Checking accuracy with Decision trees \n",
    "\n",
    "# Prediction with training dataset:\n",
    "y_pred_DTR_train = decision_tree_reg.predict(X_train)\n",
    "\n",
    "# Prediction with testing dataset:\n",
    "y_pred_DTR_test = decision_tree_reg.predict(X_test)\n",
    "\n",
    "# Find training accuracy for this model:\n",
    "accuracy_DTR_train = r2_score(y_train, y_pred_DTR_train)\n",
    "print(\"Training Accuracy for Decision Tree Regression Model: \", accuracy_DTR_train)\n",
    "\n",
    "# Find testing accuracy for this model:\n",
    "accuracy_DTR_test = r2_score(y_test, y_pred_DTR_test)\n",
    "print(\"Testing Accuracy for Decision Tree Regression Model: \", accuracy_DTR_test)\n",
    "\n",
    "# Find RMSE for training data:\n",
    "RMSE_DTR_train = sqrt(mean_squared_error(y_train, y_pred_DTR_train))\n",
    "print(\"RMSE for Training Data: \", RMSE_DTR_train)\n",
    "\n",
    "# Find RMSE for testing data:\n",
    "RMSE_DTR_test = sqrt(mean_squared_error(y_test, y_pred_DTR_test))\n",
    "print(\"RMSE for Testing Data: \", RMSE_DTR_test)\n",
    "\n",
    "# Prediction with 10-Fold Cross Validation:\n",
    "y_pred_cv_DTR = cross_val_predict(decision_tree_reg, X, y, cv=10)\n",
    "\n",
    "# Find accuracy after 10-Fold Cross Validation\n",
    "accuracy_cv_DTR = r2_score(y, y_pred_cv_DTR)\n",
    "print(\"Accuracy for 10-Fold Cross Predicted Decision Tree Regression Model: \", accuracy_cv_DTR)"
   ]
  },
  {
   "cell_type": "code",
   "execution_count": 60,
   "metadata": {},
   "outputs": [
    {
     "name": "stdout",
     "output_type": "stream",
     "text": [
      "Fitting 3 folds for each of 2166 candidates, totalling 6498 fits\n"
     ]
    },
    {
     "name": "stderr",
     "output_type": "stream",
     "text": [
      "[Parallel(n_jobs=-1)]: Using backend LokyBackend with 8 concurrent workers.\n",
      "[Parallel(n_jobs=-1)]: Done  34 tasks      | elapsed:    1.2s\n",
      "[Parallel(n_jobs=-1)]: Done 5128 tasks      | elapsed:    3.4s\n"
     ]
    },
    {
     "name": "stdout",
     "output_type": "stream",
     "text": [
      "Best paramters: {'max_depth': 4, 'min_samples_leaf': 14, 'min_samples_split': 2, 'splitter': 'best'})\n"
     ]
    },
    {
     "name": "stderr",
     "output_type": "stream",
     "text": [
      "[Parallel(n_jobs=-1)]: Done 6498 out of 6498 | elapsed:    4.0s finished\n"
     ]
    },
    {
     "data": {
      "text/plain": [
       "DecisionTreeRegressor(max_depth=4, min_samples_leaf=14)"
      ]
     },
     "execution_count": 60,
     "metadata": {},
     "output_type": "execute_result"
    }
   ],
   "source": [
    "## Hyperparameter tuning in Decision trees\n",
    "\n",
    "from sklearn.tree import DecisionTreeRegressor\n",
    "from sklearn.model_selection import GridSearchCV\n",
    "\n",
    "params = { \n",
    "    \"splitter\":(\"best\", \"random\"), \n",
    "    \"max_depth\":(list(range(1, 20))), \n",
    "    \"min_samples_split\":[2, 3, 4], \n",
    "    \"min_samples_leaf\":list(range(1, 20)), \n",
    "}\n",
    "\n",
    "\n",
    "tree_clf = DecisionTreeRegressor(random_state=42)\n",
    "tree_cv = GridSearchCV(tree_clf, params, n_jobs=-1, verbose=1, cv=3)\n",
    "tree_cv.fit(X_train, y_train)\n",
    "best_params = tree_cv.best_params_\n",
    "print(f\"Best paramters: {best_params})\")\n",
    "\n",
    "tree_clf = DecisionTreeRegressor(**best_params)\n",
    "tree_clf.fit(X_train, y_train)\n",
    "\n",
    "## Checking accuracy with Tuned RFs## Checking accuracy with Tuned RFs"
   ]
  },
  {
   "cell_type": "code",
   "execution_count": 61,
   "metadata": {},
   "outputs": [
    {
     "name": "stdout",
     "output_type": "stream",
     "text": [
      "RMSE for Training Data:  4529.070945145781\n",
      "RMSE for Testing Data:  4157.192767136226\n",
      "Training Accuracy for Decision Tree Regression Model:  0.8569224075936374\n",
      "Testing Accuracy for Decision Tree Regression Model:  0.8913953640004728\n",
      "Accuracy for 10-Fold Cross Predicted Decision Tree Regression Model:  0.8508618396766681\n"
     ]
    }
   ],
   "source": [
    "## Checking accuracy with Tuned DTs\n",
    "\n",
    "# Prediction with training dataset:\n",
    "y_pred_DTR_train = tree_clf.predict(X_train)\n",
    "\n",
    "# Prediction with testing dataset:\n",
    "y_pred_DTR_test = tree_clf.predict(X_test)\n",
    "\n",
    "# Find RMSE for training data:\n",
    "RMSE_DTR_train = sqrt(mean_squared_error(y_train, y_pred_DTR_train))\n",
    "print(\"RMSE for Training Data: \", RMSE_DTR_train)\n",
    "\n",
    "# Find RMSE for testing data:\n",
    "RMSE_DTR_test = sqrt(mean_squared_error(y_test, y_pred_DTR_test))\n",
    "print(\"RMSE for Testing Data: \", RMSE_DTR_test)\n",
    "\n",
    "# Find training accuracy for this model:\n",
    "accuracy_DTR_train = r2_score(y_train, y_pred_DTR_train)\n",
    "print(\"Training Accuracy for Decision Tree Regression Model: \", accuracy_DTR_train)\n",
    "\n",
    "# Find testing accuracy for this model:\n",
    "accuracy_DTR_test = r2_score(y_test, y_pred_DTR_test)\n",
    "print(\"Testing Accuracy for Decision Tree Regression Model: \", accuracy_DTR_test)\n",
    "\n",
    "# Prediction with 10-Fold Cross Validation:\n",
    "y_pred_cv_DTR = cross_val_predict(tree_clf, X, y, cv=10)\n",
    "\n",
    "# Find accuracy after 10-Fold Cross Validation\n",
    "accuracy_cv_DTR = r2_score(y, y_pred_cv_DTR)\n",
    "print(\"Accuracy for 10-Fold Cross Predicted Decision Tree Regression Model: \", accuracy_cv_DTR)\n",
    "\n"
   ]
  },
  {
   "cell_type": "code",
   "execution_count": 62,
   "metadata": {},
   "outputs": [],
   "source": [
    "file = open('decision_tuned.pkl','wb')\n",
    "pickle.dump(tree_clf, file)\n",
    "file.close()"
   ]
  },
  {
   "cell_type": "markdown",
   "metadata": {},
   "source": [
    "## Random Forests\n"
   ]
  },
  {
   "cell_type": "code",
   "execution_count": 63,
   "metadata": {
    "colab": {},
    "colab_type": "code",
    "id": "Hn5-bG_hpBxq"
   },
   "outputs": [
    {
     "data": {
      "text/plain": [
       "RandomForestRegressor(max_depth=4, n_estimators=500, random_state=13)"
      ]
     },
     "execution_count": 63,
     "metadata": {},
     "output_type": "execute_result"
    }
   ],
   "source": [
    "from sklearn.ensemble import RandomForestRegressor  # Import Random Forest Regression model\n",
    "\n",
    "random_forest_reg = RandomForestRegressor(n_estimators=500, max_depth=4, random_state=13)  # Create a instance for Random Forest Regression model\n",
    "random_forest_reg.fit(X_train, y_train)  # Fit data to the model"
   ]
  },
  {
   "cell_type": "code",
   "execution_count": 64,
   "metadata": {
    "colab": {},
    "colab_type": "code",
    "id": "rAMulM3IpByG",
    "scrolled": true
   },
   "outputs": [
    {
     "name": "stdout",
     "output_type": "stream",
     "text": [
      "Training Accuracy for Random Forest Regression Model:  0.8670188087463255\n",
      "Testing Accuracy for Random Forest Regression Model:  0.8966636696108155\n",
      "RMSE for Training Data:  4366.34875615845\n",
      "RMSE for Testing Data:  4055.1086824560944\n",
      "Accuracy for 10-Fold Cross Predicted Random Forest Regression Model:  0.8585154605799704\n"
     ]
    }
   ],
   "source": [
    "## Checking accuracy with vanilla Random forests\n",
    "\n",
    "# Prediction with training dataset:\n",
    "y_pred_RFR_train = random_forest_reg.predict(X_train)\n",
    "\n",
    "# Prediction with testing dataset:\n",
    "y_pred_RFR_test = random_forest_reg.predict(X_test)\n",
    "\n",
    "# Find training accuracy for this model:\n",
    "accuracy_RFR_train = r2_score(y_train, y_pred_RFR_train)\n",
    "print(\"Training Accuracy for Random Forest Regression Model: \", accuracy_RFR_train)\n",
    "\n",
    "# Find testing accuracy for this model:\n",
    "accuracy_RFR_test = r2_score(y_test, y_pred_RFR_test)\n",
    "print(\"Testing Accuracy for Random Forest Regression Model: \", accuracy_RFR_test)\n",
    "\n",
    "# Find RMSE for training data:\n",
    "RMSE_RFR_train = sqrt(mean_squared_error(y_train, y_pred_RFR_train))\n",
    "print(\"RMSE for Training Data: \", RMSE_RFR_train)\n",
    "\n",
    "# Find RMSE for testing data:\n",
    "RMSE_RFR_test = sqrt(mean_squared_error(y_test, y_pred_RFR_test))\n",
    "print(\"RMSE for Testing Data: \", RMSE_RFR_test)\n",
    "\n",
    "# Prediction with 10-Fold Cross Validation:\n",
    "y_pred_cv_RFR = cross_val_predict(random_forest_reg, X, y, cv=10)\n",
    "\n",
    "# Find accuracy after 10-Fold Cross Validation\n",
    "accuracy_cv_RFR = r2_score(y, y_pred_cv_RFR)\n",
    "print(\"Accuracy for 10-Fold Cross Predicted Random Forest Regression Model: \", accuracy_cv_RFR)"
   ]
  },
  {
   "cell_type": "code",
   "execution_count": 65,
   "metadata": {
    "scrolled": true
   },
   "outputs": [
    {
     "name": "stdout",
     "output_type": "stream",
     "text": [
      "Fitting 3 folds for each of 48 candidates, totalling 144 fits\n",
      "[CV] max_depth=2, max_features=auto, n_estimators=100 ................\n",
      "[CV] . max_depth=2, max_features=auto, n_estimators=100, total=   0.1s\n",
      "[CV] max_depth=2, max_features=auto, n_estimators=100 ................\n",
      "[CV] . max_depth=2, max_features=auto, n_estimators=100, total=   0.1s\n",
      "[CV] max_depth=2, max_features=auto, n_estimators=100 ................\n"
     ]
    },
    {
     "name": "stderr",
     "output_type": "stream",
     "text": [
      "[Parallel(n_jobs=1)]: Using backend SequentialBackend with 1 concurrent workers.\n",
      "[Parallel(n_jobs=1)]: Done   1 out of   1 | elapsed:    0.0s remaining:    0.0s\n"
     ]
    },
    {
     "name": "stdout",
     "output_type": "stream",
     "text": [
      "[CV] . max_depth=2, max_features=auto, n_estimators=100, total=   0.1s\n",
      "[CV] max_depth=2, max_features=auto, n_estimators=500 ................\n",
      "[CV] . max_depth=2, max_features=auto, n_estimators=500, total=   0.4s\n",
      "[CV] max_depth=2, max_features=auto, n_estimators=500 ................\n",
      "[CV] . max_depth=2, max_features=auto, n_estimators=500, total=   0.4s\n",
      "[CV] max_depth=2, max_features=auto, n_estimators=500 ................\n",
      "[CV] . max_depth=2, max_features=auto, n_estimators=500, total=   0.4s\n",
      "[CV] max_depth=2, max_features=auto, n_estimators=1000 ...............\n",
      "[CV]  max_depth=2, max_features=auto, n_estimators=1000, total=   0.9s\n",
      "[CV] max_depth=2, max_features=auto, n_estimators=1000 ...............\n",
      "[CV]  max_depth=2, max_features=auto, n_estimators=1000, total=   0.9s\n",
      "[CV] max_depth=2, max_features=auto, n_estimators=1000 ...............\n",
      "[CV]  max_depth=2, max_features=auto, n_estimators=1000, total=   0.9s\n",
      "[CV] max_depth=2, max_features=auto, n_estimators=1500 ...............\n",
      "[CV]  max_depth=2, max_features=auto, n_estimators=1500, total=   1.3s\n",
      "[CV] max_depth=2, max_features=auto, n_estimators=1500 ...............\n",
      "[CV]  max_depth=2, max_features=auto, n_estimators=1500, total=   1.3s\n",
      "[CV] max_depth=2, max_features=auto, n_estimators=1500 ...............\n",
      "[CV]  max_depth=2, max_features=auto, n_estimators=1500, total=   1.2s\n",
      "[CV] max_depth=2, max_features=sqrt, n_estimators=100 ................\n",
      "[CV] . max_depth=2, max_features=sqrt, n_estimators=100, total=   0.1s\n",
      "[CV] max_depth=2, max_features=sqrt, n_estimators=100 ................\n",
      "[CV] . max_depth=2, max_features=sqrt, n_estimators=100, total=   0.1s\n",
      "[CV] max_depth=2, max_features=sqrt, n_estimators=100 ................\n",
      "[CV] . max_depth=2, max_features=sqrt, n_estimators=100, total=   0.1s\n",
      "[CV] max_depth=2, max_features=sqrt, n_estimators=500 ................\n",
      "[CV] . max_depth=2, max_features=sqrt, n_estimators=500, total=   0.4s\n",
      "[CV] max_depth=2, max_features=sqrt, n_estimators=500 ................\n",
      "[CV] . max_depth=2, max_features=sqrt, n_estimators=500, total=   0.4s\n",
      "[CV] max_depth=2, max_features=sqrt, n_estimators=500 ................\n",
      "[CV] . max_depth=2, max_features=sqrt, n_estimators=500, total=   0.4s\n",
      "[CV] max_depth=2, max_features=sqrt, n_estimators=1000 ...............\n",
      "[CV]  max_depth=2, max_features=sqrt, n_estimators=1000, total=   0.8s\n",
      "[CV] max_depth=2, max_features=sqrt, n_estimators=1000 ...............\n",
      "[CV]  max_depth=2, max_features=sqrt, n_estimators=1000, total=   0.8s\n",
      "[CV] max_depth=2, max_features=sqrt, n_estimators=1000 ...............\n",
      "[CV]  max_depth=2, max_features=sqrt, n_estimators=1000, total=   0.8s\n",
      "[CV] max_depth=2, max_features=sqrt, n_estimators=1500 ...............\n",
      "[CV]  max_depth=2, max_features=sqrt, n_estimators=1500, total=   1.1s\n",
      "[CV] max_depth=2, max_features=sqrt, n_estimators=1500 ...............\n",
      "[CV]  max_depth=2, max_features=sqrt, n_estimators=1500, total=   1.1s\n",
      "[CV] max_depth=2, max_features=sqrt, n_estimators=1500 ...............\n",
      "[CV]  max_depth=2, max_features=sqrt, n_estimators=1500, total=   1.1s\n",
      "[CV] max_depth=3, max_features=auto, n_estimators=100 ................\n",
      "[CV] . max_depth=3, max_features=auto, n_estimators=100, total=   0.1s\n",
      "[CV] max_depth=3, max_features=auto, n_estimators=100 ................\n",
      "[CV] . max_depth=3, max_features=auto, n_estimators=100, total=   0.1s\n",
      "[CV] max_depth=3, max_features=auto, n_estimators=100 ................\n",
      "[CV] . max_depth=3, max_features=auto, n_estimators=100, total=   0.1s\n",
      "[CV] max_depth=3, max_features=auto, n_estimators=500 ................\n",
      "[CV] . max_depth=3, max_features=auto, n_estimators=500, total=   0.5s\n",
      "[CV] max_depth=3, max_features=auto, n_estimators=500 ................\n",
      "[CV] . max_depth=3, max_features=auto, n_estimators=500, total=   0.5s\n",
      "[CV] max_depth=3, max_features=auto, n_estimators=500 ................\n",
      "[CV] . max_depth=3, max_features=auto, n_estimators=500, total=   0.5s\n",
      "[CV] max_depth=3, max_features=auto, n_estimators=1000 ...............\n",
      "[CV]  max_depth=3, max_features=auto, n_estimators=1000, total=   0.9s\n",
      "[CV] max_depth=3, max_features=auto, n_estimators=1000 ...............\n",
      "[CV]  max_depth=3, max_features=auto, n_estimators=1000, total=   0.9s\n",
      "[CV] max_depth=3, max_features=auto, n_estimators=1000 ...............\n",
      "[CV]  max_depth=3, max_features=auto, n_estimators=1000, total=   0.9s\n",
      "[CV] max_depth=3, max_features=auto, n_estimators=1500 ...............\n",
      "[CV]  max_depth=3, max_features=auto, n_estimators=1500, total=   1.4s\n",
      "[CV] max_depth=3, max_features=auto, n_estimators=1500 ...............\n",
      "[CV]  max_depth=3, max_features=auto, n_estimators=1500, total=   1.4s\n",
      "[CV] max_depth=3, max_features=auto, n_estimators=1500 ...............\n",
      "[CV]  max_depth=3, max_features=auto, n_estimators=1500, total=   1.4s\n",
      "[CV] max_depth=3, max_features=sqrt, n_estimators=100 ................\n",
      "[CV] . max_depth=3, max_features=sqrt, n_estimators=100, total=   0.1s\n",
      "[CV] max_depth=3, max_features=sqrt, n_estimators=100 ................\n",
      "[CV] . max_depth=3, max_features=sqrt, n_estimators=100, total=   0.1s\n",
      "[CV] max_depth=3, max_features=sqrt, n_estimators=100 ................\n",
      "[CV] . max_depth=3, max_features=sqrt, n_estimators=100, total=   0.1s\n",
      "[CV] max_depth=3, max_features=sqrt, n_estimators=500 ................\n",
      "[CV] . max_depth=3, max_features=sqrt, n_estimators=500, total=   0.4s\n",
      "[CV] max_depth=3, max_features=sqrt, n_estimators=500 ................\n",
      "[CV] . max_depth=3, max_features=sqrt, n_estimators=500, total=   0.4s\n",
      "[CV] max_depth=3, max_features=sqrt, n_estimators=500 ................\n",
      "[CV] . max_depth=3, max_features=sqrt, n_estimators=500, total=   0.4s\n",
      "[CV] max_depth=3, max_features=sqrt, n_estimators=1000 ...............\n",
      "[CV]  max_depth=3, max_features=sqrt, n_estimators=1000, total=   0.8s\n",
      "[CV] max_depth=3, max_features=sqrt, n_estimators=1000 ...............\n",
      "[CV]  max_depth=3, max_features=sqrt, n_estimators=1000, total=   0.8s\n",
      "[CV] max_depth=3, max_features=sqrt, n_estimators=1000 ...............\n",
      "[CV]  max_depth=3, max_features=sqrt, n_estimators=1000, total=   0.8s\n",
      "[CV] max_depth=3, max_features=sqrt, n_estimators=1500 ...............\n",
      "[CV]  max_depth=3, max_features=sqrt, n_estimators=1500, total=   1.2s\n",
      "[CV] max_depth=3, max_features=sqrt, n_estimators=1500 ...............\n",
      "[CV]  max_depth=3, max_features=sqrt, n_estimators=1500, total=   1.2s\n",
      "[CV] max_depth=3, max_features=sqrt, n_estimators=1500 ...............\n",
      "[CV]  max_depth=3, max_features=sqrt, n_estimators=1500, total=   1.2s\n",
      "[CV] max_depth=4, max_features=auto, n_estimators=100 ................\n",
      "[CV] . max_depth=4, max_features=auto, n_estimators=100, total=   0.1s\n",
      "[CV] max_depth=4, max_features=auto, n_estimators=100 ................\n",
      "[CV] . max_depth=4, max_features=auto, n_estimators=100, total=   0.1s\n",
      "[CV] max_depth=4, max_features=auto, n_estimators=100 ................\n",
      "[CV] . max_depth=4, max_features=auto, n_estimators=100, total=   0.1s\n",
      "[CV] max_depth=4, max_features=auto, n_estimators=500 ................\n",
      "[CV] . max_depth=4, max_features=auto, n_estimators=500, total=   0.6s\n",
      "[CV] max_depth=4, max_features=auto, n_estimators=500 ................\n",
      "[CV] . max_depth=4, max_features=auto, n_estimators=500, total=   0.5s\n",
      "[CV] max_depth=4, max_features=auto, n_estimators=500 ................\n",
      "[CV] . max_depth=4, max_features=auto, n_estimators=500, total=   0.5s\n",
      "[CV] max_depth=4, max_features=auto, n_estimators=1000 ...............\n",
      "[CV]  max_depth=4, max_features=auto, n_estimators=1000, total=   1.0s\n",
      "[CV] max_depth=4, max_features=auto, n_estimators=1000 ...............\n",
      "[CV]  max_depth=4, max_features=auto, n_estimators=1000, total=   1.0s\n",
      "[CV] max_depth=4, max_features=auto, n_estimators=1000 ...............\n",
      "[CV]  max_depth=4, max_features=auto, n_estimators=1000, total=   1.0s\n",
      "[CV] max_depth=4, max_features=auto, n_estimators=1500 ...............\n",
      "[CV]  max_depth=4, max_features=auto, n_estimators=1500, total=   1.4s\n",
      "[CV] max_depth=4, max_features=auto, n_estimators=1500 ...............\n",
      "[CV]  max_depth=4, max_features=auto, n_estimators=1500, total=   1.5s\n",
      "[CV] max_depth=4, max_features=auto, n_estimators=1500 ...............\n",
      "[CV]  max_depth=4, max_features=auto, n_estimators=1500, total=   1.5s\n",
      "[CV] max_depth=4, max_features=sqrt, n_estimators=100 ................\n",
      "[CV] . max_depth=4, max_features=sqrt, n_estimators=100, total=   0.1s\n",
      "[CV] max_depth=4, max_features=sqrt, n_estimators=100 ................\n",
      "[CV] . max_depth=4, max_features=sqrt, n_estimators=100, total=   0.1s\n",
      "[CV] max_depth=4, max_features=sqrt, n_estimators=100 ................\n"
     ]
    },
    {
     "name": "stdout",
     "output_type": "stream",
     "text": [
      "[CV] . max_depth=4, max_features=sqrt, n_estimators=100, total=   0.1s\n",
      "[CV] max_depth=4, max_features=sqrt, n_estimators=500 ................\n",
      "[CV] . max_depth=4, max_features=sqrt, n_estimators=500, total=   0.4s\n",
      "[CV] max_depth=4, max_features=sqrt, n_estimators=500 ................\n",
      "[CV] . max_depth=4, max_features=sqrt, n_estimators=500, total=   0.4s\n",
      "[CV] max_depth=4, max_features=sqrt, n_estimators=500 ................\n",
      "[CV] . max_depth=4, max_features=sqrt, n_estimators=500, total=   0.4s\n",
      "[CV] max_depth=4, max_features=sqrt, n_estimators=1000 ...............\n",
      "[CV]  max_depth=4, max_features=sqrt, n_estimators=1000, total=   0.8s\n",
      "[CV] max_depth=4, max_features=sqrt, n_estimators=1000 ...............\n",
      "[CV]  max_depth=4, max_features=sqrt, n_estimators=1000, total=   0.8s\n",
      "[CV] max_depth=4, max_features=sqrt, n_estimators=1000 ...............\n",
      "[CV]  max_depth=4, max_features=sqrt, n_estimators=1000, total=   0.8s\n",
      "[CV] max_depth=4, max_features=sqrt, n_estimators=1500 ...............\n",
      "[CV]  max_depth=4, max_features=sqrt, n_estimators=1500, total=   1.2s\n",
      "[CV] max_depth=4, max_features=sqrt, n_estimators=1500 ...............\n",
      "[CV]  max_depth=4, max_features=sqrt, n_estimators=1500, total=   1.2s\n",
      "[CV] max_depth=4, max_features=sqrt, n_estimators=1500 ...............\n",
      "[CV]  max_depth=4, max_features=sqrt, n_estimators=1500, total=   1.2s\n",
      "[CV] max_depth=5, max_features=auto, n_estimators=100 ................\n",
      "[CV] . max_depth=5, max_features=auto, n_estimators=100, total=   0.1s\n",
      "[CV] max_depth=5, max_features=auto, n_estimators=100 ................\n",
      "[CV] . max_depth=5, max_features=auto, n_estimators=100, total=   0.1s\n",
      "[CV] max_depth=5, max_features=auto, n_estimators=100 ................\n",
      "[CV] . max_depth=5, max_features=auto, n_estimators=100, total=   0.1s\n",
      "[CV] max_depth=5, max_features=auto, n_estimators=500 ................\n",
      "[CV] . max_depth=5, max_features=auto, n_estimators=500, total=   0.5s\n",
      "[CV] max_depth=5, max_features=auto, n_estimators=500 ................\n",
      "[CV] . max_depth=5, max_features=auto, n_estimators=500, total=   0.5s\n",
      "[CV] max_depth=5, max_features=auto, n_estimators=500 ................\n",
      "[CV] . max_depth=5, max_features=auto, n_estimators=500, total=   0.5s\n",
      "[CV] max_depth=5, max_features=auto, n_estimators=1000 ...............\n",
      "[CV]  max_depth=5, max_features=auto, n_estimators=1000, total=   1.0s\n",
      "[CV] max_depth=5, max_features=auto, n_estimators=1000 ...............\n",
      "[CV]  max_depth=5, max_features=auto, n_estimators=1000, total=   1.1s\n",
      "[CV] max_depth=5, max_features=auto, n_estimators=1000 ...............\n",
      "[CV]  max_depth=5, max_features=auto, n_estimators=1000, total=   1.0s\n",
      "[CV] max_depth=5, max_features=auto, n_estimators=1500 ...............\n",
      "[CV]  max_depth=5, max_features=auto, n_estimators=1500, total=   1.6s\n",
      "[CV] max_depth=5, max_features=auto, n_estimators=1500 ...............\n",
      "[CV]  max_depth=5, max_features=auto, n_estimators=1500, total=   1.6s\n",
      "[CV] max_depth=5, max_features=auto, n_estimators=1500 ...............\n",
      "[CV]  max_depth=5, max_features=auto, n_estimators=1500, total=   1.5s\n",
      "[CV] max_depth=5, max_features=sqrt, n_estimators=100 ................\n",
      "[CV] . max_depth=5, max_features=sqrt, n_estimators=100, total=   0.1s\n",
      "[CV] max_depth=5, max_features=sqrt, n_estimators=100 ................\n",
      "[CV] . max_depth=5, max_features=sqrt, n_estimators=100, total=   0.1s\n",
      "[CV] max_depth=5, max_features=sqrt, n_estimators=100 ................\n",
      "[CV] . max_depth=5, max_features=sqrt, n_estimators=100, total=   0.1s\n",
      "[CV] max_depth=5, max_features=sqrt, n_estimators=500 ................\n",
      "[CV] . max_depth=5, max_features=sqrt, n_estimators=500, total=   0.4s\n",
      "[CV] max_depth=5, max_features=sqrt, n_estimators=500 ................\n",
      "[CV] . max_depth=5, max_features=sqrt, n_estimators=500, total=   0.4s\n",
      "[CV] max_depth=5, max_features=sqrt, n_estimators=500 ................\n",
      "[CV] . max_depth=5, max_features=sqrt, n_estimators=500, total=   0.4s\n",
      "[CV] max_depth=5, max_features=sqrt, n_estimators=1000 ...............\n",
      "[CV]  max_depth=5, max_features=sqrt, n_estimators=1000, total=   0.9s\n",
      "[CV] max_depth=5, max_features=sqrt, n_estimators=1000 ...............\n",
      "[CV]  max_depth=5, max_features=sqrt, n_estimators=1000, total=   0.8s\n",
      "[CV] max_depth=5, max_features=sqrt, n_estimators=1000 ...............\n",
      "[CV]  max_depth=5, max_features=sqrt, n_estimators=1000, total=   0.9s\n",
      "[CV] max_depth=5, max_features=sqrt, n_estimators=1500 ...............\n",
      "[CV]  max_depth=5, max_features=sqrt, n_estimators=1500, total=   1.3s\n",
      "[CV] max_depth=5, max_features=sqrt, n_estimators=1500 ...............\n",
      "[CV]  max_depth=5, max_features=sqrt, n_estimators=1500, total=   1.3s\n",
      "[CV] max_depth=5, max_features=sqrt, n_estimators=1500 ...............\n",
      "[CV]  max_depth=5, max_features=sqrt, n_estimators=1500, total=   1.3s\n",
      "[CV] max_depth=6, max_features=auto, n_estimators=100 ................\n",
      "[CV] . max_depth=6, max_features=auto, n_estimators=100, total=   0.1s\n",
      "[CV] max_depth=6, max_features=auto, n_estimators=100 ................\n",
      "[CV] . max_depth=6, max_features=auto, n_estimators=100, total=   0.1s\n",
      "[CV] max_depth=6, max_features=auto, n_estimators=100 ................\n",
      "[CV] . max_depth=6, max_features=auto, n_estimators=100, total=   0.1s\n",
      "[CV] max_depth=6, max_features=auto, n_estimators=500 ................\n",
      "[CV] . max_depth=6, max_features=auto, n_estimators=500, total=   0.6s\n",
      "[CV] max_depth=6, max_features=auto, n_estimators=500 ................\n",
      "[CV] . max_depth=6, max_features=auto, n_estimators=500, total=   0.6s\n",
      "[CV] max_depth=6, max_features=auto, n_estimators=500 ................\n",
      "[CV] . max_depth=6, max_features=auto, n_estimators=500, total=   0.6s\n",
      "[CV] max_depth=6, max_features=auto, n_estimators=1000 ...............\n",
      "[CV]  max_depth=6, max_features=auto, n_estimators=1000, total=   1.2s\n",
      "[CV] max_depth=6, max_features=auto, n_estimators=1000 ...............\n",
      "[CV]  max_depth=6, max_features=auto, n_estimators=1000, total=   1.1s\n",
      "[CV] max_depth=6, max_features=auto, n_estimators=1000 ...............\n",
      "[CV]  max_depth=6, max_features=auto, n_estimators=1000, total=   1.1s\n",
      "[CV] max_depth=6, max_features=auto, n_estimators=1500 ...............\n",
      "[CV]  max_depth=6, max_features=auto, n_estimators=1500, total=   1.7s\n",
      "[CV] max_depth=6, max_features=auto, n_estimators=1500 ...............\n",
      "[CV]  max_depth=6, max_features=auto, n_estimators=1500, total=   1.7s\n",
      "[CV] max_depth=6, max_features=auto, n_estimators=1500 ...............\n",
      "[CV]  max_depth=6, max_features=auto, n_estimators=1500, total=   1.6s\n",
      "[CV] max_depth=6, max_features=sqrt, n_estimators=100 ................\n",
      "[CV] . max_depth=6, max_features=sqrt, n_estimators=100, total=   0.1s\n",
      "[CV] max_depth=6, max_features=sqrt, n_estimators=100 ................\n",
      "[CV] . max_depth=6, max_features=sqrt, n_estimators=100, total=   0.1s\n",
      "[CV] max_depth=6, max_features=sqrt, n_estimators=100 ................\n",
      "[CV] . max_depth=6, max_features=sqrt, n_estimators=100, total=   0.1s\n",
      "[CV] max_depth=6, max_features=sqrt, n_estimators=500 ................\n",
      "[CV] . max_depth=6, max_features=sqrt, n_estimators=500, total=   0.4s\n",
      "[CV] max_depth=6, max_features=sqrt, n_estimators=500 ................\n",
      "[CV] . max_depth=6, max_features=sqrt, n_estimators=500, total=   0.5s\n",
      "[CV] max_depth=6, max_features=sqrt, n_estimators=500 ................\n",
      "[CV] . max_depth=6, max_features=sqrt, n_estimators=500, total=   0.5s\n",
      "[CV] max_depth=6, max_features=sqrt, n_estimators=1000 ...............\n",
      "[CV]  max_depth=6, max_features=sqrt, n_estimators=1000, total=   0.9s\n",
      "[CV] max_depth=6, max_features=sqrt, n_estimators=1000 ...............\n",
      "[CV]  max_depth=6, max_features=sqrt, n_estimators=1000, total=   0.9s\n",
      "[CV] max_depth=6, max_features=sqrt, n_estimators=1000 ...............\n",
      "[CV]  max_depth=6, max_features=sqrt, n_estimators=1000, total=   0.9s\n",
      "[CV] max_depth=6, max_features=sqrt, n_estimators=1500 ...............\n",
      "[CV]  max_depth=6, max_features=sqrt, n_estimators=1500, total=   1.3s\n",
      "[CV] max_depth=6, max_features=sqrt, n_estimators=1500 ...............\n",
      "[CV]  max_depth=6, max_features=sqrt, n_estimators=1500, total=   1.3s\n",
      "[CV] max_depth=6, max_features=sqrt, n_estimators=1500 ...............\n",
      "[CV]  max_depth=6, max_features=sqrt, n_estimators=1500, total=   1.3s\n",
      "[CV] max_depth=None, max_features=auto, n_estimators=100 .............\n",
      "[CV]  max_depth=None, max_features=auto, n_estimators=100, total=   0.2s\n",
      "[CV] max_depth=None, max_features=auto, n_estimators=100 .............\n"
     ]
    },
    {
     "name": "stdout",
     "output_type": "stream",
     "text": [
      "[CV]  max_depth=None, max_features=auto, n_estimators=100, total=   0.2s\n",
      "[CV] max_depth=None, max_features=auto, n_estimators=100 .............\n",
      "[CV]  max_depth=None, max_features=auto, n_estimators=100, total=   0.2s\n",
      "[CV] max_depth=None, max_features=auto, n_estimators=500 .............\n",
      "[CV]  max_depth=None, max_features=auto, n_estimators=500, total=   0.8s\n",
      "[CV] max_depth=None, max_features=auto, n_estimators=500 .............\n",
      "[CV]  max_depth=None, max_features=auto, n_estimators=500, total=   0.8s\n",
      "[CV] max_depth=None, max_features=auto, n_estimators=500 .............\n",
      "[CV]  max_depth=None, max_features=auto, n_estimators=500, total=   0.8s\n",
      "[CV] max_depth=None, max_features=auto, n_estimators=1000 ............\n",
      "[CV]  max_depth=None, max_features=auto, n_estimators=1000, total=   1.6s\n",
      "[CV] max_depth=None, max_features=auto, n_estimators=1000 ............\n",
      "[CV]  max_depth=None, max_features=auto, n_estimators=1000, total=   1.6s\n",
      "[CV] max_depth=None, max_features=auto, n_estimators=1000 ............\n",
      "[CV]  max_depth=None, max_features=auto, n_estimators=1000, total=   1.6s\n",
      "[CV] max_depth=None, max_features=auto, n_estimators=1500 ............\n",
      "[CV]  max_depth=None, max_features=auto, n_estimators=1500, total=   2.4s\n",
      "[CV] max_depth=None, max_features=auto, n_estimators=1500 ............\n",
      "[CV]  max_depth=None, max_features=auto, n_estimators=1500, total=   2.4s\n",
      "[CV] max_depth=None, max_features=auto, n_estimators=1500 ............\n",
      "[CV]  max_depth=None, max_features=auto, n_estimators=1500, total=   2.4s\n",
      "[CV] max_depth=None, max_features=sqrt, n_estimators=100 .............\n",
      "[CV]  max_depth=None, max_features=sqrt, n_estimators=100, total=   0.1s\n",
      "[CV] max_depth=None, max_features=sqrt, n_estimators=100 .............\n",
      "[CV]  max_depth=None, max_features=sqrt, n_estimators=100, total=   0.1s\n",
      "[CV] max_depth=None, max_features=sqrt, n_estimators=100 .............\n",
      "[CV]  max_depth=None, max_features=sqrt, n_estimators=100, total=   0.1s\n",
      "[CV] max_depth=None, max_features=sqrt, n_estimators=500 .............\n",
      "[CV]  max_depth=None, max_features=sqrt, n_estimators=500, total=   0.6s\n",
      "[CV] max_depth=None, max_features=sqrt, n_estimators=500 .............\n",
      "[CV]  max_depth=None, max_features=sqrt, n_estimators=500, total=   0.6s\n",
      "[CV] max_depth=None, max_features=sqrt, n_estimators=500 .............\n",
      "[CV]  max_depth=None, max_features=sqrt, n_estimators=500, total=   0.6s\n",
      "[CV] max_depth=None, max_features=sqrt, n_estimators=1000 ............\n",
      "[CV]  max_depth=None, max_features=sqrt, n_estimators=1000, total=   1.2s\n",
      "[CV] max_depth=None, max_features=sqrt, n_estimators=1000 ............\n",
      "[CV]  max_depth=None, max_features=sqrt, n_estimators=1000, total=   1.2s\n",
      "[CV] max_depth=None, max_features=sqrt, n_estimators=1000 ............\n",
      "[CV]  max_depth=None, max_features=sqrt, n_estimators=1000, total=   1.2s\n",
      "[CV] max_depth=None, max_features=sqrt, n_estimators=1500 ............\n",
      "[CV]  max_depth=None, max_features=sqrt, n_estimators=1500, total=   1.7s\n",
      "[CV] max_depth=None, max_features=sqrt, n_estimators=1500 ............\n",
      "[CV]  max_depth=None, max_features=sqrt, n_estimators=1500, total=   1.8s\n",
      "[CV] max_depth=None, max_features=sqrt, n_estimators=1500 ............\n",
      "[CV]  max_depth=None, max_features=sqrt, n_estimators=1500, total=   1.7s\n"
     ]
    },
    {
     "name": "stderr",
     "output_type": "stream",
     "text": [
      "[Parallel(n_jobs=1)]: Done 144 out of 144 | elapsed:  1.8min finished\n"
     ]
    },
    {
     "name": "stdout",
     "output_type": "stream",
     "text": [
      "Best parameters: {'max_depth': 4, 'max_features': 'auto', 'n_estimators': 1500}\n"
     ]
    },
    {
     "data": {
      "text/plain": [
       "RandomForestRegressor(max_depth=4, n_estimators=1500)"
      ]
     },
     "execution_count": 65,
     "metadata": {},
     "output_type": "execute_result"
    }
   ],
   "source": [
    "## Hyperparameter tuning in Random forests\n",
    "\n",
    "n_estimators = [100, 500, 1000, 1500]\n",
    "max_features = ['auto', 'sqrt']\n",
    "max_depth = [2,3,4,5,6]\n",
    "max_depth.append(None)\n",
    "#min_samples_split = [2, 5, 10]\n",
    "#min_samples_leaf = [1, 2, 4, 10]\n",
    "\n",
    "\n",
    "params_grid = {'n_estimators': n_estimators, 'max_features': max_features,\n",
    "               'max_depth': max_depth} #'min_samples_split': min_samples_split,\n",
    "               #'min_samples_leaf': min_samples_leaf}\n",
    "\n",
    "\n",
    "rf_clf = RandomForestRegressor(random_state=42)\n",
    "\n",
    "rf_cv = GridSearchCV(rf_clf, params_grid, cv=3, verbose=2)\n",
    "\n",
    "\n",
    "rf_cv.fit(X_train, y_train)\n",
    "best_params = rf_cv.best_params_\n",
    "print(f\"Best parameters: {best_params}\")\n",
    "\n",
    "rf_clf = RandomForestRegressor(**best_params)\n",
    "rf_clf.fit(X_train, y_train)"
   ]
  },
  {
   "cell_type": "code",
   "execution_count": 66,
   "metadata": {},
   "outputs": [
    {
     "name": "stdout",
     "output_type": "stream",
     "text": [
      "RMSE for Training Data:  4365.616460077111\n",
      "RMSE for Testing Data:  4061.5697071096415\n"
     ]
    }
   ],
   "source": [
    "## Checking accuracy with Tuned RFs\n",
    "\n",
    "# Prediction with training dataset:\n",
    "y_pred_RFR_train = rf_clf.predict(X_train)\n",
    "\n",
    "# Prediction with testing dataset:\n",
    "y_pred_RFR_test = rf_clf.predict(X_test)\n",
    "\n",
    "# Find RMSE for training data:\n",
    "RMSE_RFR_train = sqrt(mean_squared_error(y_train, y_pred_RFR_train))\n",
    "print(\"RMSE for Training Data: \", RMSE_RFR_train)\n",
    "\n",
    "# Find RMSE for testing data:\n",
    "RMSE_RFR_test = sqrt(mean_squared_error(y_test, y_pred_RFR_test))\n",
    "print(\"RMSE for Testing Data: \", RMSE_RFR_test)\n"
   ]
  },
  {
   "cell_type": "code",
   "execution_count": 67,
   "metadata": {},
   "outputs": [],
   "source": [
    "file = open('forest_tuned.pkl','wb')\n",
    "pickle.dump(rf_clf,file)\n",
    "file.close()"
   ]
  },
  {
   "cell_type": "markdown",
   "metadata": {},
   "source": [
    "## SVR"
   ]
  },
  {
   "cell_type": "code",
   "execution_count": 46,
   "metadata": {
    "colab": {},
    "colab_type": "code",
    "id": "WilSMZg2pBxt"
   },
   "outputs": [
    {
     "data": {
      "text/plain": [
       "SVR(C=100000, gamma='auto')"
      ]
     },
     "execution_count": 46,
     "metadata": {},
     "output_type": "execute_result"
    }
   ],
   "source": [
    "from sklearn.svm import SVR  # Import SVR model\n",
    "\n",
    "support_vector_reg = SVR(gamma=\"auto\", kernel=\"rbf\", C=100000 )  # Create a instance for Support Vector Regression model\n",
    "support_vector_reg.fit(X_train, y_train)  # Fit data to the model"
   ]
  },
  {
   "cell_type": "code",
   "execution_count": 60,
   "metadata": {
    "colab": {},
    "colab_type": "code",
    "id": "ebao6hEepByK"
   },
   "outputs": [
    {
     "name": "stdout",
     "output_type": "stream",
     "text": [
      "Training Accuracy for Support Vector Regression Model:  0.8449729675321083\n",
      "Testing Accuracy for Support Vector Regression Model:  0.8864006694913926\n",
      "RMSE for Training Data:  4714.406521159359\n",
      "RMSE for Testing Data:  4251.712273346031\n",
      "Accuracy for 10-Fold Cross Predicted Random Forest Regression Model:  0.8585154605799704\n"
     ]
    }
   ],
   "source": [
    "## Checking accuracy with vanilla SVMs\n",
    "\n",
    "# Prediction with training dataset:\n",
    "y_pred_SVR_train = support_vector_reg.predict(X_train)\n",
    "\n",
    "# Prediction with testing dataset:\n",
    "y_pred_SVR_test = support_vector_reg.predict(X_test)\n",
    "\n",
    "# Find training accuracy for this model:\n",
    "accuracy_SVR_train = r2_score(y_train, y_pred_SVR_train)\n",
    "print(\"Training Accuracy for Support Vector Regression Model: \", accuracy_SVR_train)\n",
    "\n",
    "# Find testing accuracy for this model:\n",
    "accuracy_SVR_test = r2_score(y_test, y_pred_SVR_test)\n",
    "print(\"Testing Accuracy for Support Vector Regression Model: \", accuracy_SVR_test)\n",
    "\n",
    "# Find RMSE for training data:\n",
    "RMSE_SVR_train = sqrt(mean_squared_error(y_train, y_pred_SVR_train))\n",
    "print(\"RMSE for Training Data: \", RMSE_SVR_train)\n",
    "\n",
    "# Find RMSE for testing data:\n",
    "RMSE_SVR_test = sqrt(mean_squared_error(y_test, y_pred_SVR_test))\n",
    "print(\"RMSE for Testing Data: \", RMSE_SVR_test)\n",
    "\n",
    "# Find accuracy after 10-Fold Cross Validation\n",
    "accuracy_cv_SVR = r2_score(y, y_pred_cv_RFR)\n",
    "print(\"Accuracy for 10-Fold Cross Predicted Random Forest Regression Model: \", accuracy_cv_SVR)"
   ]
  },
  {
   "cell_type": "code",
   "execution_count": 54,
   "metadata": {},
   "outputs": [],
   "source": [
    "file = open('svr_insurance.pkl','wb')\n",
    "pickle.dump(support_vector_reg,file)\n",
    "file.close()"
   ]
  },
  {
   "cell_type": "code",
   "execution_count": 52,
   "metadata": {},
   "outputs": [
    {
     "name": "stdout",
     "output_type": "stream",
     "text": [
      "Fitting 5 folds for each of 126 candidates, totalling 630 fits\n"
     ]
    },
    {
     "name": "stderr",
     "output_type": "stream",
     "text": [
      "[Parallel(n_jobs=-1)]: Using backend LokyBackend with 8 concurrent workers.\n",
      "[Parallel(n_jobs=-1)]: Done  56 tasks      | elapsed:    1.1s\n",
      "[Parallel(n_jobs=-1)]: Done 630 out of 630 | elapsed:   26.9s finished\n",
      "C:\\Users\\User\\anaconda3\\lib\\site-packages\\sklearn\\model_selection\\_search.py:847: FutureWarning: The parameter 'iid' is deprecated in 0.22 and will be removed in 0.24.\n",
      "  warnings.warn(\n"
     ]
    },
    {
     "name": "stdout",
     "output_type": "stream",
     "text": [
      "Best params: {'C': 100000, 'gamma': 0.01, 'kernel': 'rbf'}\n"
     ]
    },
    {
     "data": {
      "text/plain": [
       "SVR(C=100000, gamma=0.01)"
      ]
     },
     "execution_count": 52,
     "metadata": {},
     "output_type": "execute_result"
    }
   ],
   "source": [
    "## Hyper parameter tuning the SVM\n",
    "\n",
    "from sklearn.model_selection import GridSearchCV\n",
    "\n",
    "param_grid = {'C': [0.01, 0.1, 0.5, 1, 10, 100,1000,10000,100000], \n",
    "              'gamma': [1, 0.75, 0.5, 0.25, 0.1, 0.01, 0.001], \n",
    "              'kernel': ['rbf', 'linear']} \n",
    "\n",
    "grid = GridSearchCV(SVR(), param_grid, refit=True, verbose=1, cv=5, iid=True,n_jobs = -1)\n",
    "grid.fit(X_train, y_train)\n",
    "\n",
    "best_params = grid.best_params_\n",
    "print(f\"Best params: {best_params}\")\n",
    "\n",
    "svm_clf = SVR(**best_params)\n",
    "svm_clf.fit(X_train, y_train)"
   ]
  },
  {
   "cell_type": "code",
   "execution_count": 53,
   "metadata": {},
   "outputs": [
    {
     "name": "stdout",
     "output_type": "stream",
     "text": [
      "RMSE for Training Data:  5079.111014779015\n",
      "RMSE for Testing Data:  4473.744711308698\n"
     ]
    }
   ],
   "source": [
    "## Checking accuracy with Tuned SVMs\n",
    "\n",
    "# Prediction with training dataset:\n",
    "y_pred_SVR_train = svm_clf.predict(X_train)\n",
    "\n",
    "# Prediction with testing dataset:\n",
    "y_pred_SVR_test = svm_clf.predict(X_test)\n",
    "\n",
    "# Find RMSE for training data:\n",
    "RMSE_SVR_train = sqrt(mean_squared_error(y_train, y_pred_SVR_train))\n",
    "print(\"RMSE for Training Data: \", RMSE_SVR_train)\n",
    "\n",
    "# Find RMSE for testing data:\n",
    "RMSE_SVR_test = sqrt(mean_squared_error(y_test, y_pred_SVR_test))\n",
    "print(\"RMSE for Testing Data: \", RMSE_SVR_test)\n"
   ]
  },
  {
   "cell_type": "code",
   "execution_count": 61,
   "metadata": {
    "colab": {},
    "colab_type": "code",
    "id": "rZfcEKAhpByN"
   },
   "outputs": [
    {
     "data": {
      "text/html": [
       "<div>\n",
       "<style scoped>\n",
       "    .dataframe tbody tr th:only-of-type {\n",
       "        vertical-align: middle;\n",
       "    }\n",
       "\n",
       "    .dataframe tbody tr th {\n",
       "        vertical-align: top;\n",
       "    }\n",
       "\n",
       "    .dataframe thead th {\n",
       "        text-align: right;\n",
       "    }\n",
       "</style>\n",
       "<table border=\"1\" class=\"dataframe\">\n",
       "  <thead>\n",
       "    <tr style=\"text-align: right;\">\n",
       "      <th></th>\n",
       "      <th>Parameters</th>\n",
       "      <th>Training Accuracy</th>\n",
       "      <th>Testing Accuracy</th>\n",
       "      <th>Training RMSE</th>\n",
       "      <th>Testing RMSE</th>\n",
       "      <th>10-Fold Score</th>\n",
       "    </tr>\n",
       "  </thead>\n",
       "  <tbody>\n",
       "    <tr>\n",
       "      <th>Multiple Linear Regression</th>\n",
       "      <td>fit_intercept=False</td>\n",
       "      <td>-0.478530</td>\n",
       "      <td>-0.330057</td>\n",
       "      <td>14559.229579</td>\n",
       "      <td>14548.261617</td>\n",
       "      <td>0.720287</td>\n",
       "    </tr>\n",
       "    <tr>\n",
       "      <th>Polynomial Regression</th>\n",
       "      <td>fit_intercept=False</td>\n",
       "      <td>0.837424</td>\n",
       "      <td>0.880298</td>\n",
       "      <td>4827.822983</td>\n",
       "      <td>4364.423141</td>\n",
       "      <td>0.837900</td>\n",
       "    </tr>\n",
       "    <tr>\n",
       "      <th>Decision Tree Regression</th>\n",
       "      <td>max_depth=4</td>\n",
       "      <td>0.856922</td>\n",
       "      <td>0.891395</td>\n",
       "      <td>4529.070945</td>\n",
       "      <td>4157.192767</td>\n",
       "      <td>0.850862</td>\n",
       "    </tr>\n",
       "    <tr>\n",
       "      <th>Random Forest Regression</th>\n",
       "      <td>n_estimators=500, max_depth=4</td>\n",
       "      <td>0.867019</td>\n",
       "      <td>0.896664</td>\n",
       "      <td>4366.348756</td>\n",
       "      <td>4055.108682</td>\n",
       "      <td>0.858515</td>\n",
       "    </tr>\n",
       "    <tr>\n",
       "      <th>Support Vector Regression</th>\n",
       "      <td>kernel=”rbf”, C=1000</td>\n",
       "      <td>0.844973</td>\n",
       "      <td>0.886401</td>\n",
       "      <td>4714.406521</td>\n",
       "      <td>4251.712273</td>\n",
       "      <td>0.858515</td>\n",
       "    </tr>\n",
       "  </tbody>\n",
       "</table>\n",
       "</div>"
      ],
      "text/plain": [
       "                                               Parameters  Training Accuracy  \\\n",
       "Multiple Linear Regression            fit_intercept=False          -0.478530   \n",
       "Polynomial Regression                 fit_intercept=False           0.837424   \n",
       "Decision Tree Regression                      max_depth=4           0.856922   \n",
       "Random Forest Regression    n_estimators=500, max_depth=4           0.867019   \n",
       "Support Vector Regression            kernel=”rbf”, C=1000           0.844973   \n",
       "\n",
       "                            Testing Accuracy  Training RMSE  Testing RMSE  \\\n",
       "Multiple Linear Regression         -0.330057   14559.229579  14548.261617   \n",
       "Polynomial Regression               0.880298    4827.822983   4364.423141   \n",
       "Decision Tree Regression            0.891395    4529.070945   4157.192767   \n",
       "Random Forest Regression            0.896664    4366.348756   4055.108682   \n",
       "Support Vector Regression           0.886401    4714.406521   4251.712273   \n",
       "\n",
       "                            10-Fold Score  \n",
       "Multiple Linear Regression       0.720287  \n",
       "Polynomial Regression            0.837900  \n",
       "Decision Tree Regression         0.850862  \n",
       "Random Forest Regression         0.858515  \n",
       "Support Vector Regression        0.858515  "
      ]
     },
     "execution_count": 61,
     "metadata": {},
     "output_type": "execute_result"
    }
   ],
   "source": [
    "# Compare all results in one table\n",
    "training_accuracies = [accuracy_MLR_train, accuracy_PR_train, accuracy_DTR_train, accuracy_RFR_train, accuracy_SVR_train]\n",
    "testing_accuracies = [accuracy_MLR_test, accuracy_PR_test, accuracy_DTR_test, accuracy_RFR_test, accuracy_SVR_test]\n",
    "training_RMSE = [RMSE_MLR_train, RMSE_PR_train, RMSE_DTR_train, RMSE_RFR_train, RMSE_SVR_train]\n",
    "testing_RMSE = [RMSE_MLR_test, RMSE_PR_test, RMSE_DTR_test, RMSE_RFR_test, RMSE_SVR_test]\n",
    "cv_accuracies = [accuracy_cv_MLR, accuracy_cv_PR, accuracy_cv_DTR, accuracy_cv_RFR, accuracy_cv_SVR]\n",
    "\n",
    "parameters = [\"fit_intercept=False\", \"fit_intercept=False\", \"max_depth=4\", \"n_estimators=500, max_depth=4\", \"kernel=”rbf”, C=1000\"]\n",
    "\n",
    "table_data = {\"Parameters\": parameters, \"Training Accuracy\": training_accuracies, \"Testing Accuracy\": testing_accuracies, \n",
    "              \"Training RMSE\": training_RMSE, \"Testing RMSE\": testing_RMSE, \"10-Fold Score\": cv_accuracies}\n",
    "model_names = [\"Multiple Linear Regression\", \"Polynomial Regression\", \"Decision Tree Regression\", \"Random Forest Regression\", \"Support Vector Regression\"]\n",
    "\n",
    "table_dataframe = pd.DataFrame(data=table_data, index=model_names)\n",
    "table_dataframe"
   ]
  },
  {
   "cell_type": "code",
   "execution_count": 62,
   "metadata": {},
   "outputs": [],
   "source": [
    "# XGBoost with parameter tuning\n",
    "\n",
    "import matplotlib.pyplot as plt\n",
    "\n",
    "from xgboost import XGBRegressor\n",
    "from xgboost import XGBRFRegressor\n",
    "from sklearn.model_selection import GridSearchCV\n",
    "\n",
    "from sklearn.metrics import mean_squared_error\n",
    "from sklearn.metrics import mean_absolute_error"
   ]
  },
  {
   "cell_type": "code",
   "execution_count": 63,
   "metadata": {},
   "outputs": [],
   "source": [
    "def hyperParameterTuning(X_train, y_train):\n",
    "    param_tuning = {\n",
    "        'learning_rate': [0.01, 0.1,0.3],\n",
    "        'max_depth': [3, 5, 7, 10],\n",
    "        'min_child_weight': [1, 3, 5],\n",
    "        'subsample': [0.5, 0.7],\n",
    "        'colsample_bytree': [0.5, 0.7],\n",
    "        'n_estimators' : [100, 200, 500],\n",
    "        'objective': ['reg:squarederror']\n",
    "    }\n",
    "\n",
    "    xgb_model = XGBRegressor()\n",
    "\n",
    "    gsearch = GridSearchCV(estimator = xgb_model,\n",
    "                           param_grid = param_tuning,                        \n",
    "                           #scoring = 'neg_mean_absolute_error', #MAE\n",
    "                           scoring = 'neg_mean_squared_error',  #MSE\n",
    "                           cv = 5,\n",
    "                           n_jobs = -1,\n",
    "                           verbose = 1)\n",
    "\n",
    "    gsearch.fit(X_train,y_train)\n",
    "\n",
    "    return gsearch.best_params_"
   ]
  },
  {
   "cell_type": "code",
   "execution_count": 64,
   "metadata": {},
   "outputs": [
    {
     "name": "stdout",
     "output_type": "stream",
     "text": [
      "Fitting 5 folds for each of 432 candidates, totalling 2160 fits\n"
     ]
    },
    {
     "name": "stderr",
     "output_type": "stream",
     "text": [
      "[Parallel(n_jobs=-1)]: Using backend LokyBackend with 8 concurrent workers.\n",
      "[Parallel(n_jobs=-1)]: Done  34 tasks      | elapsed:    1.0s\n",
      "[Parallel(n_jobs=-1)]: Done 184 tasks      | elapsed:    5.9s\n",
      "[Parallel(n_jobs=-1)]: Done 434 tasks      | elapsed:   19.2s\n",
      "[Parallel(n_jobs=-1)]: Done 784 tasks      | elapsed:   37.5s\n",
      "[Parallel(n_jobs=-1)]: Done 1234 tasks      | elapsed:   59.3s\n",
      "[Parallel(n_jobs=-1)]: Done 1784 tasks      | elapsed:  1.5min\n",
      "[Parallel(n_jobs=-1)]: Done 2160 out of 2160 | elapsed:  1.9min finished\n"
     ]
    },
    {
     "data": {
      "text/plain": [
       "{'colsample_bytree': 0.7,\n",
       " 'learning_rate': 0.01,\n",
       " 'max_depth': 3,\n",
       " 'min_child_weight': 5,\n",
       " 'n_estimators': 500,\n",
       " 'objective': 'reg:squarederror',\n",
       " 'subsample': 0.7}"
      ]
     },
     "execution_count": 64,
     "metadata": {},
     "output_type": "execute_result"
    }
   ],
   "source": [
    "hyperParameterTuning(X_train, y_train)"
   ]
  },
  {
   "cell_type": "code",
   "execution_count": 65,
   "metadata": {},
   "outputs": [
    {
     "name": "stdout",
     "output_type": "stream",
     "text": [
      "RMSE Training data: 4342.584013325118\n",
      "RMSE Testing data: 4126.141080739887\n"
     ]
    }
   ],
   "source": [
    "xgb_model = XGBRegressor(\n",
    "        objective = 'reg:squarederror',\n",
    "        colsample_bytree = 0.7,\n",
    "        learning_rate = 0.01,\n",
    "        max_depth = 3,\n",
    "        min_child_weight = 5,\n",
    "        n_estimators = 500,\n",
    "        subsample = 0.7)\n",
    "\n",
    "xgb_model.fit(X_train, y_train, early_stopping_rounds=5, eval_set=[(X_test, y_test)], verbose=False)\n",
    "\n",
    "y_pred_xgb = xgb_model.predict(X_test)\n",
    "y_pred_xgb1 = xgb_model.predict(X_train)\n",
    "\n",
    "\n",
    "rmse_xgb = sqrt(mean_squared_error(y_test, y_pred_xgb))\n",
    "rmse_xgb1 = sqrt(mean_squared_error(y_train, y_pred_xgb1))\n",
    "\n",
    "\n",
    "print(\"RMSE Training data:\", rmse_xgb1)\n",
    "print(\"RMSE Testing data:\", rmse_xgb)"
   ]
  },
  {
   "cell_type": "code",
   "execution_count": null,
   "metadata": {},
   "outputs": [],
   "source": []
  }
 ],
 "metadata": {
  "colab": {
   "name": "Insurance Premium - Regression problem.ipynb",
   "provenance": []
  },
  "kernelspec": {
   "display_name": "Python 3",
   "language": "python",
   "name": "python3"
  },
  "language_info": {
   "codemirror_mode": {
    "name": "ipython",
    "version": 3
   },
   "file_extension": ".py",
   "mimetype": "text/x-python",
   "name": "python",
   "nbconvert_exporter": "python",
   "pygments_lexer": "ipython3",
   "version": "3.8.5"
  }
 },
 "nbformat": 4,
 "nbformat_minor": 1
}
